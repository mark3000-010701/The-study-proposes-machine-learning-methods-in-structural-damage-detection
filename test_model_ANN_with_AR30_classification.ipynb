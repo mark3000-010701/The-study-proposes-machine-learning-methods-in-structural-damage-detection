{
  "nbformat": 4,
  "nbformat_minor": 0,
  "metadata": {
    "colab": {
      "name": "test_model_ANN_with_AR30_classification.ipynb",
      "provenance": [],
      "mount_file_id": "1WKaP4DHzAO9FPLojyf_ot67otlVcjSID",
      "authorship_tag": "ABX9TyMKson3rw6AI/AcU2z6hdSp",
      "include_colab_link": true
    },
    "kernelspec": {
      "name": "python3",
      "display_name": "Python 3"
    },
    "language_info": {
      "name": "python"
    }
  },
  "cells": [
    {
      "cell_type": "markdown",
      "metadata": {
        "id": "view-in-github",
        "colab_type": "text"
      },
      "source": [
        "<a href=\"https://colab.research.google.com/github/mark3000-010701/The-study-proposes-machine-learning-methods-in-structural-damage-detection/blob/main/test_model_ANN_with_AR30_classification.ipynb\" target=\"_parent\"><img src=\"https://colab.research.google.com/assets/colab-badge.svg\" alt=\"Open In Colab\"/></a>"
      ]
    },
    {
      "cell_type": "code",
      "execution_count": 90,
      "metadata": {
        "id": "3rP_DhjXNjt0"
      },
      "outputs": [],
      "source": [
        "import numpy as np\n",
        "import pandas as pd\n",
        "import matplotlib.pyplot as plt\n",
        "import tensorflow as tf\n",
        "import keras\n",
        "from sklearn.model_selection import train_test_split"
      ]
    },
    {
      "cell_type": "markdown",
      "source": [
        "đọc dữ liệu"
      ],
      "metadata": {
        "id": "Qq-eB9RqN7t5"
      }
    },
    {
      "cell_type": "code",
      "source": [
        "df_damag = pd.read_csv('/content/drive/MyDrive/Colab Notebooks/data_AR/Z24_01_avt_ar_lags30.csv')\n",
        "df_damag.head()"
      ],
      "metadata": {
        "colab": {
          "base_uri": "https://localhost:8080/",
          "height": 279
        },
        "id": "gZIBpaKAN5wC",
        "outputId": "549696d6-a1d0-4fb9-c84d-d09637fc939a"
      },
      "execution_count": 91,
      "outputs": [
        {
          "output_type": "execute_result",
          "data": {
            "text/plain": [
              "          0         1         2         3         4         5         6  \\\n",
              "0  0.188551 -1.831313  0.269703 -1.899566  0.367822 -1.337485  0.560015   \n",
              "1  0.001323 -1.513705 -0.025424 -1.286226  0.214456 -0.595287  0.541101   \n",
              "2  0.042113 -1.560507 -0.053504 -1.487476  0.059937 -0.825542  0.197459   \n",
              "3  0.288522 -1.524582  0.452929 -1.551784  0.527094 -0.808047  0.428855   \n",
              "4  0.374052 -1.567791  0.713601 -1.718501  0.873121 -1.098372  0.808788   \n",
              "\n",
              "          7         8         9  ...        20        21        22        23  \\\n",
              "0 -0.447530  0.601489  0.136189  ...  0.045936  0.465558  0.193725  0.505233   \n",
              "1  0.292676  0.626366  0.556689  ...  0.010720  0.587200  0.329819  0.662693   \n",
              "2  0.073489  0.307278  0.492737  ...  0.016416  0.507250  0.232045  0.633422   \n",
              "3  0.051967  0.283276  0.425607  ... -0.230640  0.531735 -0.038901  0.568340   \n",
              "4 -0.284880  0.514294  0.092092  ... -0.379367  0.577784 -0.198218  0.455401   \n",
              "\n",
              "         24        25        26        27        28        29  \n",
              "0  0.222883  0.420898  0.188927  0.257299  0.079685  0.093056  \n",
              "1  0.380200  0.506202  0.297332  0.241586  0.120309  0.059965  \n",
              "2  0.277323  0.553907  0.254098  0.328015  0.113745  0.119630  \n",
              "3  0.058347  0.424846  0.080205  0.212624  0.050079  0.057377  \n",
              "4 -0.100408  0.223588 -0.034277  0.043612 -0.002408 -0.025903  \n",
              "\n",
              "[5 rows x 30 columns]"
            ],
            "text/html": [
              "\n",
              "  <div id=\"df-2a46e9a9-a290-4ce6-af3c-42015cee5524\">\n",
              "    <div class=\"colab-df-container\">\n",
              "      <div>\n",
              "<style scoped>\n",
              "    .dataframe tbody tr th:only-of-type {\n",
              "        vertical-align: middle;\n",
              "    }\n",
              "\n",
              "    .dataframe tbody tr th {\n",
              "        vertical-align: top;\n",
              "    }\n",
              "\n",
              "    .dataframe thead th {\n",
              "        text-align: right;\n",
              "    }\n",
              "</style>\n",
              "<table border=\"1\" class=\"dataframe\">\n",
              "  <thead>\n",
              "    <tr style=\"text-align: right;\">\n",
              "      <th></th>\n",
              "      <th>0</th>\n",
              "      <th>1</th>\n",
              "      <th>2</th>\n",
              "      <th>3</th>\n",
              "      <th>4</th>\n",
              "      <th>5</th>\n",
              "      <th>6</th>\n",
              "      <th>7</th>\n",
              "      <th>8</th>\n",
              "      <th>9</th>\n",
              "      <th>...</th>\n",
              "      <th>20</th>\n",
              "      <th>21</th>\n",
              "      <th>22</th>\n",
              "      <th>23</th>\n",
              "      <th>24</th>\n",
              "      <th>25</th>\n",
              "      <th>26</th>\n",
              "      <th>27</th>\n",
              "      <th>28</th>\n",
              "      <th>29</th>\n",
              "    </tr>\n",
              "  </thead>\n",
              "  <tbody>\n",
              "    <tr>\n",
              "      <th>0</th>\n",
              "      <td>0.188551</td>\n",
              "      <td>-1.831313</td>\n",
              "      <td>0.269703</td>\n",
              "      <td>-1.899566</td>\n",
              "      <td>0.367822</td>\n",
              "      <td>-1.337485</td>\n",
              "      <td>0.560015</td>\n",
              "      <td>-0.447530</td>\n",
              "      <td>0.601489</td>\n",
              "      <td>0.136189</td>\n",
              "      <td>...</td>\n",
              "      <td>0.045936</td>\n",
              "      <td>0.465558</td>\n",
              "      <td>0.193725</td>\n",
              "      <td>0.505233</td>\n",
              "      <td>0.222883</td>\n",
              "      <td>0.420898</td>\n",
              "      <td>0.188927</td>\n",
              "      <td>0.257299</td>\n",
              "      <td>0.079685</td>\n",
              "      <td>0.093056</td>\n",
              "    </tr>\n",
              "    <tr>\n",
              "      <th>1</th>\n",
              "      <td>0.001323</td>\n",
              "      <td>-1.513705</td>\n",
              "      <td>-0.025424</td>\n",
              "      <td>-1.286226</td>\n",
              "      <td>0.214456</td>\n",
              "      <td>-0.595287</td>\n",
              "      <td>0.541101</td>\n",
              "      <td>0.292676</td>\n",
              "      <td>0.626366</td>\n",
              "      <td>0.556689</td>\n",
              "      <td>...</td>\n",
              "      <td>0.010720</td>\n",
              "      <td>0.587200</td>\n",
              "      <td>0.329819</td>\n",
              "      <td>0.662693</td>\n",
              "      <td>0.380200</td>\n",
              "      <td>0.506202</td>\n",
              "      <td>0.297332</td>\n",
              "      <td>0.241586</td>\n",
              "      <td>0.120309</td>\n",
              "      <td>0.059965</td>\n",
              "    </tr>\n",
              "    <tr>\n",
              "      <th>2</th>\n",
              "      <td>0.042113</td>\n",
              "      <td>-1.560507</td>\n",
              "      <td>-0.053504</td>\n",
              "      <td>-1.487476</td>\n",
              "      <td>0.059937</td>\n",
              "      <td>-0.825542</td>\n",
              "      <td>0.197459</td>\n",
              "      <td>0.073489</td>\n",
              "      <td>0.307278</td>\n",
              "      <td>0.492737</td>\n",
              "      <td>...</td>\n",
              "      <td>0.016416</td>\n",
              "      <td>0.507250</td>\n",
              "      <td>0.232045</td>\n",
              "      <td>0.633422</td>\n",
              "      <td>0.277323</td>\n",
              "      <td>0.553907</td>\n",
              "      <td>0.254098</td>\n",
              "      <td>0.328015</td>\n",
              "      <td>0.113745</td>\n",
              "      <td>0.119630</td>\n",
              "    </tr>\n",
              "    <tr>\n",
              "      <th>3</th>\n",
              "      <td>0.288522</td>\n",
              "      <td>-1.524582</td>\n",
              "      <td>0.452929</td>\n",
              "      <td>-1.551784</td>\n",
              "      <td>0.527094</td>\n",
              "      <td>-0.808047</td>\n",
              "      <td>0.428855</td>\n",
              "      <td>0.051967</td>\n",
              "      <td>0.283276</td>\n",
              "      <td>0.425607</td>\n",
              "      <td>...</td>\n",
              "      <td>-0.230640</td>\n",
              "      <td>0.531735</td>\n",
              "      <td>-0.038901</td>\n",
              "      <td>0.568340</td>\n",
              "      <td>0.058347</td>\n",
              "      <td>0.424846</td>\n",
              "      <td>0.080205</td>\n",
              "      <td>0.212624</td>\n",
              "      <td>0.050079</td>\n",
              "      <td>0.057377</td>\n",
              "    </tr>\n",
              "    <tr>\n",
              "      <th>4</th>\n",
              "      <td>0.374052</td>\n",
              "      <td>-1.567791</td>\n",
              "      <td>0.713601</td>\n",
              "      <td>-1.718501</td>\n",
              "      <td>0.873121</td>\n",
              "      <td>-1.098372</td>\n",
              "      <td>0.808788</td>\n",
              "      <td>-0.284880</td>\n",
              "      <td>0.514294</td>\n",
              "      <td>0.092092</td>\n",
              "      <td>...</td>\n",
              "      <td>-0.379367</td>\n",
              "      <td>0.577784</td>\n",
              "      <td>-0.198218</td>\n",
              "      <td>0.455401</td>\n",
              "      <td>-0.100408</td>\n",
              "      <td>0.223588</td>\n",
              "      <td>-0.034277</td>\n",
              "      <td>0.043612</td>\n",
              "      <td>-0.002408</td>\n",
              "      <td>-0.025903</td>\n",
              "    </tr>\n",
              "  </tbody>\n",
              "</table>\n",
              "<p>5 rows × 30 columns</p>\n",
              "</div>\n",
              "      <button class=\"colab-df-convert\" onclick=\"convertToInteractive('df-2a46e9a9-a290-4ce6-af3c-42015cee5524')\"\n",
              "              title=\"Convert this dataframe to an interactive table.\"\n",
              "              style=\"display:none;\">\n",
              "        \n",
              "  <svg xmlns=\"http://www.w3.org/2000/svg\" height=\"24px\"viewBox=\"0 0 24 24\"\n",
              "       width=\"24px\">\n",
              "    <path d=\"M0 0h24v24H0V0z\" fill=\"none\"/>\n",
              "    <path d=\"M18.56 5.44l.94 2.06.94-2.06 2.06-.94-2.06-.94-.94-2.06-.94 2.06-2.06.94zm-11 1L8.5 8.5l.94-2.06 2.06-.94-2.06-.94L8.5 2.5l-.94 2.06-2.06.94zm10 10l.94 2.06.94-2.06 2.06-.94-2.06-.94-.94-2.06-.94 2.06-2.06.94z\"/><path d=\"M17.41 7.96l-1.37-1.37c-.4-.4-.92-.59-1.43-.59-.52 0-1.04.2-1.43.59L10.3 9.45l-7.72 7.72c-.78.78-.78 2.05 0 2.83L4 21.41c.39.39.9.59 1.41.59.51 0 1.02-.2 1.41-.59l7.78-7.78 2.81-2.81c.8-.78.8-2.07 0-2.86zM5.41 20L4 18.59l7.72-7.72 1.47 1.35L5.41 20z\"/>\n",
              "  </svg>\n",
              "      </button>\n",
              "      \n",
              "  <style>\n",
              "    .colab-df-container {\n",
              "      display:flex;\n",
              "      flex-wrap:wrap;\n",
              "      gap: 12px;\n",
              "    }\n",
              "\n",
              "    .colab-df-convert {\n",
              "      background-color: #E8F0FE;\n",
              "      border: none;\n",
              "      border-radius: 50%;\n",
              "      cursor: pointer;\n",
              "      display: none;\n",
              "      fill: #1967D2;\n",
              "      height: 32px;\n",
              "      padding: 0 0 0 0;\n",
              "      width: 32px;\n",
              "    }\n",
              "\n",
              "    .colab-df-convert:hover {\n",
              "      background-color: #E2EBFA;\n",
              "      box-shadow: 0px 1px 2px rgba(60, 64, 67, 0.3), 0px 1px 3px 1px rgba(60, 64, 67, 0.15);\n",
              "      fill: #174EA6;\n",
              "    }\n",
              "\n",
              "    [theme=dark] .colab-df-convert {\n",
              "      background-color: #3B4455;\n",
              "      fill: #D2E3FC;\n",
              "    }\n",
              "\n",
              "    [theme=dark] .colab-df-convert:hover {\n",
              "      background-color: #434B5C;\n",
              "      box-shadow: 0px 1px 3px 1px rgba(0, 0, 0, 0.15);\n",
              "      filter: drop-shadow(0px 1px 2px rgba(0, 0, 0, 0.3));\n",
              "      fill: #FFFFFF;\n",
              "    }\n",
              "  </style>\n",
              "\n",
              "      <script>\n",
              "        const buttonEl =\n",
              "          document.querySelector('#df-2a46e9a9-a290-4ce6-af3c-42015cee5524 button.colab-df-convert');\n",
              "        buttonEl.style.display =\n",
              "          google.colab.kernel.accessAllowed ? 'block' : 'none';\n",
              "\n",
              "        async function convertToInteractive(key) {\n",
              "          const element = document.querySelector('#df-2a46e9a9-a290-4ce6-af3c-42015cee5524');\n",
              "          const dataTable =\n",
              "            await google.colab.kernel.invokeFunction('convertToInteractive',\n",
              "                                                     [key], {});\n",
              "          if (!dataTable) return;\n",
              "\n",
              "          const docLinkHtml = 'Like what you see? Visit the ' +\n",
              "            '<a target=\"_blank\" href=https://colab.research.google.com/notebooks/data_table.ipynb>data table notebook</a>'\n",
              "            + ' to learn more about interactive tables.';\n",
              "          element.innerHTML = '';\n",
              "          dataTable['output_type'] = 'display_data';\n",
              "          await google.colab.output.renderOutput(dataTable, element);\n",
              "          const docLink = document.createElement('div');\n",
              "          docLink.innerHTML = docLinkHtml;\n",
              "          element.appendChild(docLink);\n",
              "        }\n",
              "      </script>\n",
              "    </div>\n",
              "  </div>\n",
              "  "
            ]
          },
          "metadata": {},
          "execution_count": 91
        }
      ]
    },
    {
      "cell_type": "code",
      "source": [
        "df_damag.info()"
      ],
      "metadata": {
        "colab": {
          "base_uri": "https://localhost:8080/"
        },
        "id": "MxquwGocOAU9",
        "outputId": "2c9065a5-9550-42c1-a898-7160d4d2fcc6"
      },
      "execution_count": 92,
      "outputs": [
        {
          "output_type": "stream",
          "name": "stdout",
          "text": [
            "<class 'pandas.core.frame.DataFrame'>\n",
            "RangeIndex: 289 entries, 0 to 288\n",
            "Data columns (total 30 columns):\n",
            " #   Column  Non-Null Count  Dtype  \n",
            "---  ------  --------------  -----  \n",
            " 0   0       289 non-null    float64\n",
            " 1   1       289 non-null    float64\n",
            " 2   2       289 non-null    float64\n",
            " 3   3       289 non-null    float64\n",
            " 4   4       289 non-null    float64\n",
            " 5   5       289 non-null    float64\n",
            " 6   6       289 non-null    float64\n",
            " 7   7       289 non-null    float64\n",
            " 8   8       289 non-null    float64\n",
            " 9   9       289 non-null    float64\n",
            " 10  10      289 non-null    float64\n",
            " 11  11      289 non-null    float64\n",
            " 12  12      289 non-null    float64\n",
            " 13  13      289 non-null    float64\n",
            " 14  14      289 non-null    float64\n",
            " 15  15      289 non-null    float64\n",
            " 16  16      289 non-null    float64\n",
            " 17  17      289 non-null    float64\n",
            " 18  18      289 non-null    float64\n",
            " 19  19      289 non-null    float64\n",
            " 20  20      289 non-null    float64\n",
            " 21  21      289 non-null    float64\n",
            " 22  22      289 non-null    float64\n",
            " 23  23      289 non-null    float64\n",
            " 24  24      289 non-null    float64\n",
            " 25  25      289 non-null    float64\n",
            " 26  26      289 non-null    float64\n",
            " 27  27      289 non-null    float64\n",
            " 28  28      289 non-null    float64\n",
            " 29  29      289 non-null    float64\n",
            "dtypes: float64(30)\n",
            "memory usage: 67.9 KB\n"
          ]
        }
      ]
    },
    {
      "cell_type": "code",
      "source": [
        "df_normal = pd.read_csv('/content/drive/MyDrive/Colab Notebooks/data_AR/Z24_12_avt_ar_lags30.csv')\n",
        "df_normal.head()"
      ],
      "metadata": {
        "colab": {
          "base_uri": "https://localhost:8080/",
          "height": 279
        },
        "id": "ZCPRoTCQOC0t",
        "outputId": "6904a428-b53e-4d9c-eeb4-08593fdd8084"
      },
      "execution_count": 93,
      "outputs": [
        {
          "output_type": "execute_result",
          "data": {
            "text/plain": [
              "          0         1         2         3         4         5         6  \\\n",
              "0  0.215391 -1.988158  0.326786 -2.225446  0.361410 -1.722394  0.428749   \n",
              "1  0.015273 -1.615242 -0.073862 -1.493956  0.010926 -0.906206  0.194786   \n",
              "2  0.018031 -1.717028 -0.114767 -1.811428 -0.109287 -1.250645 -0.090195   \n",
              "3  0.491214 -1.563688  0.920167 -1.650692  1.136241 -0.914208  0.922570   \n",
              "4  0.283590 -1.714851  0.543299 -2.046903  0.659876 -1.504479  0.644691   \n",
              "\n",
              "          7         8         9  ...        20        21        22        23  \\\n",
              "0 -0.790013  0.470387 -0.037052  ...  0.154444  0.594432  0.196298  0.512117   \n",
              "1 -0.077323  0.323855  0.288718  ... -0.168721  0.236515  0.060803  0.350101   \n",
              "2 -0.358772  0.022506  0.214969  ...  0.017743  0.357151  0.120442  0.401228   \n",
              "3  0.013923  0.509549  0.536455  ... -0.114276  0.400581 -0.072637  0.357473   \n",
              "4 -0.567616  0.503193  0.114813  ... -0.432876  0.348140 -0.138496  0.419232   \n",
              "\n",
              "         24        25        26        27        28        29  \n",
              "0  0.161310  0.363328  0.093523  0.179487  0.030643  0.054789  \n",
              "1  0.142934  0.337634  0.111244  0.197976  0.037547  0.071206  \n",
              "2  0.133294  0.356671  0.092019  0.217800  0.020101  0.086484  \n",
              "3 -0.065151  0.238467 -0.074727  0.110160 -0.040050  0.032473  \n",
              "4  0.001883  0.329414  0.017724  0.172469  0.003575  0.049221  \n",
              "\n",
              "[5 rows x 30 columns]"
            ],
            "text/html": [
              "\n",
              "  <div id=\"df-dcd893c0-7b0d-4703-aba5-4d235fea8cfb\">\n",
              "    <div class=\"colab-df-container\">\n",
              "      <div>\n",
              "<style scoped>\n",
              "    .dataframe tbody tr th:only-of-type {\n",
              "        vertical-align: middle;\n",
              "    }\n",
              "\n",
              "    .dataframe tbody tr th {\n",
              "        vertical-align: top;\n",
              "    }\n",
              "\n",
              "    .dataframe thead th {\n",
              "        text-align: right;\n",
              "    }\n",
              "</style>\n",
              "<table border=\"1\" class=\"dataframe\">\n",
              "  <thead>\n",
              "    <tr style=\"text-align: right;\">\n",
              "      <th></th>\n",
              "      <th>0</th>\n",
              "      <th>1</th>\n",
              "      <th>2</th>\n",
              "      <th>3</th>\n",
              "      <th>4</th>\n",
              "      <th>5</th>\n",
              "      <th>6</th>\n",
              "      <th>7</th>\n",
              "      <th>8</th>\n",
              "      <th>9</th>\n",
              "      <th>...</th>\n",
              "      <th>20</th>\n",
              "      <th>21</th>\n",
              "      <th>22</th>\n",
              "      <th>23</th>\n",
              "      <th>24</th>\n",
              "      <th>25</th>\n",
              "      <th>26</th>\n",
              "      <th>27</th>\n",
              "      <th>28</th>\n",
              "      <th>29</th>\n",
              "    </tr>\n",
              "  </thead>\n",
              "  <tbody>\n",
              "    <tr>\n",
              "      <th>0</th>\n",
              "      <td>0.215391</td>\n",
              "      <td>-1.988158</td>\n",
              "      <td>0.326786</td>\n",
              "      <td>-2.225446</td>\n",
              "      <td>0.361410</td>\n",
              "      <td>-1.722394</td>\n",
              "      <td>0.428749</td>\n",
              "      <td>-0.790013</td>\n",
              "      <td>0.470387</td>\n",
              "      <td>-0.037052</td>\n",
              "      <td>...</td>\n",
              "      <td>0.154444</td>\n",
              "      <td>0.594432</td>\n",
              "      <td>0.196298</td>\n",
              "      <td>0.512117</td>\n",
              "      <td>0.161310</td>\n",
              "      <td>0.363328</td>\n",
              "      <td>0.093523</td>\n",
              "      <td>0.179487</td>\n",
              "      <td>0.030643</td>\n",
              "      <td>0.054789</td>\n",
              "    </tr>\n",
              "    <tr>\n",
              "      <th>1</th>\n",
              "      <td>0.015273</td>\n",
              "      <td>-1.615242</td>\n",
              "      <td>-0.073862</td>\n",
              "      <td>-1.493956</td>\n",
              "      <td>0.010926</td>\n",
              "      <td>-0.906206</td>\n",
              "      <td>0.194786</td>\n",
              "      <td>-0.077323</td>\n",
              "      <td>0.323855</td>\n",
              "      <td>0.288718</td>\n",
              "      <td>...</td>\n",
              "      <td>-0.168721</td>\n",
              "      <td>0.236515</td>\n",
              "      <td>0.060803</td>\n",
              "      <td>0.350101</td>\n",
              "      <td>0.142934</td>\n",
              "      <td>0.337634</td>\n",
              "      <td>0.111244</td>\n",
              "      <td>0.197976</td>\n",
              "      <td>0.037547</td>\n",
              "      <td>0.071206</td>\n",
              "    </tr>\n",
              "    <tr>\n",
              "      <th>2</th>\n",
              "      <td>0.018031</td>\n",
              "      <td>-1.717028</td>\n",
              "      <td>-0.114767</td>\n",
              "      <td>-1.811428</td>\n",
              "      <td>-0.109287</td>\n",
              "      <td>-1.250645</td>\n",
              "      <td>-0.090195</td>\n",
              "      <td>-0.358772</td>\n",
              "      <td>0.022506</td>\n",
              "      <td>0.214969</td>\n",
              "      <td>...</td>\n",
              "      <td>0.017743</td>\n",
              "      <td>0.357151</td>\n",
              "      <td>0.120442</td>\n",
              "      <td>0.401228</td>\n",
              "      <td>0.133294</td>\n",
              "      <td>0.356671</td>\n",
              "      <td>0.092019</td>\n",
              "      <td>0.217800</td>\n",
              "      <td>0.020101</td>\n",
              "      <td>0.086484</td>\n",
              "    </tr>\n",
              "    <tr>\n",
              "      <th>3</th>\n",
              "      <td>0.491214</td>\n",
              "      <td>-1.563688</td>\n",
              "      <td>0.920167</td>\n",
              "      <td>-1.650692</td>\n",
              "      <td>1.136241</td>\n",
              "      <td>-0.914208</td>\n",
              "      <td>0.922570</td>\n",
              "      <td>0.013923</td>\n",
              "      <td>0.509549</td>\n",
              "      <td>0.536455</td>\n",
              "      <td>...</td>\n",
              "      <td>-0.114276</td>\n",
              "      <td>0.400581</td>\n",
              "      <td>-0.072637</td>\n",
              "      <td>0.357473</td>\n",
              "      <td>-0.065151</td>\n",
              "      <td>0.238467</td>\n",
              "      <td>-0.074727</td>\n",
              "      <td>0.110160</td>\n",
              "      <td>-0.040050</td>\n",
              "      <td>0.032473</td>\n",
              "    </tr>\n",
              "    <tr>\n",
              "      <th>4</th>\n",
              "      <td>0.283590</td>\n",
              "      <td>-1.714851</td>\n",
              "      <td>0.543299</td>\n",
              "      <td>-2.046903</td>\n",
              "      <td>0.659876</td>\n",
              "      <td>-1.504479</td>\n",
              "      <td>0.644691</td>\n",
              "      <td>-0.567616</td>\n",
              "      <td>0.503193</td>\n",
              "      <td>0.114813</td>\n",
              "      <td>...</td>\n",
              "      <td>-0.432876</td>\n",
              "      <td>0.348140</td>\n",
              "      <td>-0.138496</td>\n",
              "      <td>0.419232</td>\n",
              "      <td>0.001883</td>\n",
              "      <td>0.329414</td>\n",
              "      <td>0.017724</td>\n",
              "      <td>0.172469</td>\n",
              "      <td>0.003575</td>\n",
              "      <td>0.049221</td>\n",
              "    </tr>\n",
              "  </tbody>\n",
              "</table>\n",
              "<p>5 rows × 30 columns</p>\n",
              "</div>\n",
              "      <button class=\"colab-df-convert\" onclick=\"convertToInteractive('df-dcd893c0-7b0d-4703-aba5-4d235fea8cfb')\"\n",
              "              title=\"Convert this dataframe to an interactive table.\"\n",
              "              style=\"display:none;\">\n",
              "        \n",
              "  <svg xmlns=\"http://www.w3.org/2000/svg\" height=\"24px\"viewBox=\"0 0 24 24\"\n",
              "       width=\"24px\">\n",
              "    <path d=\"M0 0h24v24H0V0z\" fill=\"none\"/>\n",
              "    <path d=\"M18.56 5.44l.94 2.06.94-2.06 2.06-.94-2.06-.94-.94-2.06-.94 2.06-2.06.94zm-11 1L8.5 8.5l.94-2.06 2.06-.94-2.06-.94L8.5 2.5l-.94 2.06-2.06.94zm10 10l.94 2.06.94-2.06 2.06-.94-2.06-.94-.94-2.06-.94 2.06-2.06.94z\"/><path d=\"M17.41 7.96l-1.37-1.37c-.4-.4-.92-.59-1.43-.59-.52 0-1.04.2-1.43.59L10.3 9.45l-7.72 7.72c-.78.78-.78 2.05 0 2.83L4 21.41c.39.39.9.59 1.41.59.51 0 1.02-.2 1.41-.59l7.78-7.78 2.81-2.81c.8-.78.8-2.07 0-2.86zM5.41 20L4 18.59l7.72-7.72 1.47 1.35L5.41 20z\"/>\n",
              "  </svg>\n",
              "      </button>\n",
              "      \n",
              "  <style>\n",
              "    .colab-df-container {\n",
              "      display:flex;\n",
              "      flex-wrap:wrap;\n",
              "      gap: 12px;\n",
              "    }\n",
              "\n",
              "    .colab-df-convert {\n",
              "      background-color: #E8F0FE;\n",
              "      border: none;\n",
              "      border-radius: 50%;\n",
              "      cursor: pointer;\n",
              "      display: none;\n",
              "      fill: #1967D2;\n",
              "      height: 32px;\n",
              "      padding: 0 0 0 0;\n",
              "      width: 32px;\n",
              "    }\n",
              "\n",
              "    .colab-df-convert:hover {\n",
              "      background-color: #E2EBFA;\n",
              "      box-shadow: 0px 1px 2px rgba(60, 64, 67, 0.3), 0px 1px 3px 1px rgba(60, 64, 67, 0.15);\n",
              "      fill: #174EA6;\n",
              "    }\n",
              "\n",
              "    [theme=dark] .colab-df-convert {\n",
              "      background-color: #3B4455;\n",
              "      fill: #D2E3FC;\n",
              "    }\n",
              "\n",
              "    [theme=dark] .colab-df-convert:hover {\n",
              "      background-color: #434B5C;\n",
              "      box-shadow: 0px 1px 3px 1px rgba(0, 0, 0, 0.15);\n",
              "      filter: drop-shadow(0px 1px 2px rgba(0, 0, 0, 0.3));\n",
              "      fill: #FFFFFF;\n",
              "    }\n",
              "  </style>\n",
              "\n",
              "      <script>\n",
              "        const buttonEl =\n",
              "          document.querySelector('#df-dcd893c0-7b0d-4703-aba5-4d235fea8cfb button.colab-df-convert');\n",
              "        buttonEl.style.display =\n",
              "          google.colab.kernel.accessAllowed ? 'block' : 'none';\n",
              "\n",
              "        async function convertToInteractive(key) {\n",
              "          const element = document.querySelector('#df-dcd893c0-7b0d-4703-aba5-4d235fea8cfb');\n",
              "          const dataTable =\n",
              "            await google.colab.kernel.invokeFunction('convertToInteractive',\n",
              "                                                     [key], {});\n",
              "          if (!dataTable) return;\n",
              "\n",
              "          const docLinkHtml = 'Like what you see? Visit the ' +\n",
              "            '<a target=\"_blank\" href=https://colab.research.google.com/notebooks/data_table.ipynb>data table notebook</a>'\n",
              "            + ' to learn more about interactive tables.';\n",
              "          element.innerHTML = '';\n",
              "          dataTable['output_type'] = 'display_data';\n",
              "          await google.colab.output.renderOutput(dataTable, element);\n",
              "          const docLink = document.createElement('div');\n",
              "          docLink.innerHTML = docLinkHtml;\n",
              "          element.appendChild(docLink);\n",
              "        }\n",
              "      </script>\n",
              "    </div>\n",
              "  </div>\n",
              "  "
            ]
          },
          "metadata": {},
          "execution_count": 93
        }
      ]
    },
    {
      "cell_type": "code",
      "source": [
        "df_normal.info()"
      ],
      "metadata": {
        "colab": {
          "base_uri": "https://localhost:8080/"
        },
        "id": "Khux85oAOEUq",
        "outputId": "e24d9ed6-eb42-49a8-f4d2-e85bc651df3e"
      },
      "execution_count": 94,
      "outputs": [
        {
          "output_type": "stream",
          "name": "stdout",
          "text": [
            "<class 'pandas.core.frame.DataFrame'>\n",
            "RangeIndex: 291 entries, 0 to 290\n",
            "Data columns (total 30 columns):\n",
            " #   Column  Non-Null Count  Dtype  \n",
            "---  ------  --------------  -----  \n",
            " 0   0       291 non-null    float64\n",
            " 1   1       291 non-null    float64\n",
            " 2   2       291 non-null    float64\n",
            " 3   3       291 non-null    float64\n",
            " 4   4       291 non-null    float64\n",
            " 5   5       291 non-null    float64\n",
            " 6   6       291 non-null    float64\n",
            " 7   7       291 non-null    float64\n",
            " 8   8       291 non-null    float64\n",
            " 9   9       291 non-null    float64\n",
            " 10  10      291 non-null    float64\n",
            " 11  11      291 non-null    float64\n",
            " 12  12      291 non-null    float64\n",
            " 13  13      291 non-null    float64\n",
            " 14  14      291 non-null    float64\n",
            " 15  15      291 non-null    float64\n",
            " 16  16      291 non-null    float64\n",
            " 17  17      291 non-null    float64\n",
            " 18  18      291 non-null    float64\n",
            " 19  19      291 non-null    float64\n",
            " 20  20      291 non-null    float64\n",
            " 21  21      291 non-null    float64\n",
            " 22  22      291 non-null    float64\n",
            " 23  23      291 non-null    float64\n",
            " 24  24      291 non-null    float64\n",
            " 25  25      291 non-null    float64\n",
            " 26  26      291 non-null    float64\n",
            " 27  27      291 non-null    float64\n",
            " 28  28      291 non-null    float64\n",
            " 29  29      291 non-null    float64\n",
            "dtypes: float64(30)\n",
            "memory usage: 68.3 KB\n"
          ]
        }
      ]
    },
    {
      "cell_type": "code",
      "source": [
        "df_normal.shape"
      ],
      "metadata": {
        "colab": {
          "base_uri": "https://localhost:8080/"
        },
        "id": "JoyuwxecOHZC",
        "outputId": "5f9827d4-e63f-40a2-ba21-a50d9204f818"
      },
      "execution_count": 95,
      "outputs": [
        {
          "output_type": "execute_result",
          "data": {
            "text/plain": [
              "(291, 30)"
            ]
          },
          "metadata": {},
          "execution_count": 95
        }
      ]
    },
    {
      "cell_type": "markdown",
      "source": [
        "Chuẩn bị dữ liệu đào tạo"
      ],
      "metadata": {
        "id": "zJVFhhPmOJ7C"
      }
    },
    {
      "cell_type": "code",
      "source": [
        "type(df_normal.values)"
      ],
      "metadata": {
        "colab": {
          "base_uri": "https://localhost:8080/"
        },
        "id": "qmjyyyMGONnl",
        "outputId": "960d71a1-b60c-4ea4-bec5-a0850f8ea17d"
      },
      "execution_count": 96,
      "outputs": [
        {
          "output_type": "execute_result",
          "data": {
            "text/plain": [
              "numpy.ndarray"
            ]
          },
          "metadata": {},
          "execution_count": 96
        }
      ]
    },
    {
      "cell_type": "code",
      "source": [
        "all_data = np.concatenate([df_normal.values, df_damag.values])\n"
      ],
      "metadata": {
        "id": "1eS7tktxOzg0"
      },
      "execution_count": 97,
      "outputs": []
    },
    {
      "cell_type": "code",
      "source": [
        "all_data.shape"
      ],
      "metadata": {
        "colab": {
          "base_uri": "https://localhost:8080/"
        },
        "id": "8fRhKL3sO1Lz",
        "outputId": "3a2db612-8a75-43ba-eee3-c3f61c4141fb"
      },
      "execution_count": 98,
      "outputs": [
        {
          "output_type": "execute_result",
          "data": {
            "text/plain": [
              "(580, 30)"
            ]
          },
          "metadata": {},
          "execution_count": 98
        }
      ]
    },
    {
      "cell_type": "code",
      "source": [
        "Y_normal = np.ones(df_normal.shape[0])\n",
        "Y_damag =  np.zeros(df_damag.shape[0])\n",
        "Y_all = np.concatenate([Y_normal, Y_damag])\n",
        "Y_all.shape"
      ],
      "metadata": {
        "colab": {
          "base_uri": "https://localhost:8080/"
        },
        "id": "p8yBENs6O5V5",
        "outputId": "367d821b-4d53-4a6c-9e84-fa778e5d2a27"
      },
      "execution_count": 99,
      "outputs": [
        {
          "output_type": "execute_result",
          "data": {
            "text/plain": [
              "(580,)"
            ]
          },
          "metadata": {},
          "execution_count": 99
        }
      ]
    },
    {
      "cell_type": "code",
      "source": [
        "Y_all"
      ],
      "metadata": {
        "colab": {
          "base_uri": "https://localhost:8080/"
        },
        "id": "-85FToLIO747",
        "outputId": "7aa274d1-7b2d-44cc-ed6a-106153895dba"
      },
      "execution_count": 100,
      "outputs": [
        {
          "output_type": "execute_result",
          "data": {
            "text/plain": [
              "array([1., 1., 1., 1., 1., 1., 1., 1., 1., 1., 1., 1., 1., 1., 1., 1., 1.,\n",
              "       1., 1., 1., 1., 1., 1., 1., 1., 1., 1., 1., 1., 1., 1., 1., 1., 1.,\n",
              "       1., 1., 1., 1., 1., 1., 1., 1., 1., 1., 1., 1., 1., 1., 1., 1., 1.,\n",
              "       1., 1., 1., 1., 1., 1., 1., 1., 1., 1., 1., 1., 1., 1., 1., 1., 1.,\n",
              "       1., 1., 1., 1., 1., 1., 1., 1., 1., 1., 1., 1., 1., 1., 1., 1., 1.,\n",
              "       1., 1., 1., 1., 1., 1., 1., 1., 1., 1., 1., 1., 1., 1., 1., 1., 1.,\n",
              "       1., 1., 1., 1., 1., 1., 1., 1., 1., 1., 1., 1., 1., 1., 1., 1., 1.,\n",
              "       1., 1., 1., 1., 1., 1., 1., 1., 1., 1., 1., 1., 1., 1., 1., 1., 1.,\n",
              "       1., 1., 1., 1., 1., 1., 1., 1., 1., 1., 1., 1., 1., 1., 1., 1., 1.,\n",
              "       1., 1., 1., 1., 1., 1., 1., 1., 1., 1., 1., 1., 1., 1., 1., 1., 1.,\n",
              "       1., 1., 1., 1., 1., 1., 1., 1., 1., 1., 1., 1., 1., 1., 1., 1., 1.,\n",
              "       1., 1., 1., 1., 1., 1., 1., 1., 1., 1., 1., 1., 1., 1., 1., 1., 1.,\n",
              "       1., 1., 1., 1., 1., 1., 1., 1., 1., 1., 1., 1., 1., 1., 1., 1., 1.,\n",
              "       1., 1., 1., 1., 1., 1., 1., 1., 1., 1., 1., 1., 1., 1., 1., 1., 1.,\n",
              "       1., 1., 1., 1., 1., 1., 1., 1., 1., 1., 1., 1., 1., 1., 1., 1., 1.,\n",
              "       1., 1., 1., 1., 1., 1., 1., 1., 1., 1., 1., 1., 1., 1., 1., 1., 1.,\n",
              "       1., 1., 1., 1., 1., 1., 1., 1., 1., 1., 1., 1., 1., 1., 1., 1., 1.,\n",
              "       1., 1., 0., 0., 0., 0., 0., 0., 0., 0., 0., 0., 0., 0., 0., 0., 0.,\n",
              "       0., 0., 0., 0., 0., 0., 0., 0., 0., 0., 0., 0., 0., 0., 0., 0., 0.,\n",
              "       0., 0., 0., 0., 0., 0., 0., 0., 0., 0., 0., 0., 0., 0., 0., 0., 0.,\n",
              "       0., 0., 0., 0., 0., 0., 0., 0., 0., 0., 0., 0., 0., 0., 0., 0., 0.,\n",
              "       0., 0., 0., 0., 0., 0., 0., 0., 0., 0., 0., 0., 0., 0., 0., 0., 0.,\n",
              "       0., 0., 0., 0., 0., 0., 0., 0., 0., 0., 0., 0., 0., 0., 0., 0., 0.,\n",
              "       0., 0., 0., 0., 0., 0., 0., 0., 0., 0., 0., 0., 0., 0., 0., 0., 0.,\n",
              "       0., 0., 0., 0., 0., 0., 0., 0., 0., 0., 0., 0., 0., 0., 0., 0., 0.,\n",
              "       0., 0., 0., 0., 0., 0., 0., 0., 0., 0., 0., 0., 0., 0., 0., 0., 0.,\n",
              "       0., 0., 0., 0., 0., 0., 0., 0., 0., 0., 0., 0., 0., 0., 0., 0., 0.,\n",
              "       0., 0., 0., 0., 0., 0., 0., 0., 0., 0., 0., 0., 0., 0., 0., 0., 0.,\n",
              "       0., 0., 0., 0., 0., 0., 0., 0., 0., 0., 0., 0., 0., 0., 0., 0., 0.,\n",
              "       0., 0., 0., 0., 0., 0., 0., 0., 0., 0., 0., 0., 0., 0., 0., 0., 0.,\n",
              "       0., 0., 0., 0., 0., 0., 0., 0., 0., 0., 0., 0., 0., 0., 0., 0., 0.,\n",
              "       0., 0., 0., 0., 0., 0., 0., 0., 0., 0., 0., 0., 0., 0., 0., 0., 0.,\n",
              "       0., 0., 0., 0., 0., 0., 0., 0., 0., 0., 0., 0., 0., 0., 0., 0., 0.,\n",
              "       0., 0., 0., 0., 0., 0., 0., 0., 0., 0., 0., 0., 0., 0., 0., 0., 0.,\n",
              "       0., 0.])"
            ]
          },
          "metadata": {},
          "execution_count": 100
        }
      ]
    },
    {
      "cell_type": "markdown",
      "source": [
        "chia dữ liệu thành các tập train , test"
      ],
      "metadata": {
        "id": "nosZAxMsO_O9"
      }
    },
    {
      "cell_type": "code",
      "source": [
        "X_train, X_test, y_train, y_test = train_test_split(all_data, Y_all, test_size=0.25, random_state=0)\n"
      ],
      "metadata": {
        "id": "jjtWnu4uPEWa"
      },
      "execution_count": 101,
      "outputs": []
    },
    {
      "cell_type": "code",
      "source": [
        "y_test"
      ],
      "metadata": {
        "colab": {
          "base_uri": "https://localhost:8080/"
        },
        "id": "MUlLYpG6O9xz",
        "outputId": "638b269e-dd62-4b5f-c856-b5156964574b"
      },
      "execution_count": 102,
      "outputs": [
        {
          "output_type": "execute_result",
          "data": {
            "text/plain": [
              "array([0., 0., 1., 0., 0., 0., 1., 0., 1., 0., 1., 1., 0., 1., 1., 0., 0.,\n",
              "       0., 1., 1., 1., 0., 0., 0., 0., 1., 1., 0., 0., 0., 1., 1., 0., 0.,\n",
              "       0., 0., 1., 0., 1., 0., 1., 0., 0., 0., 1., 0., 1., 0., 0., 0., 1.,\n",
              "       0., 1., 0., 0., 0., 1., 1., 1., 0., 0., 0., 1., 1., 1., 1., 0., 0.,\n",
              "       0., 1., 1., 1., 0., 0., 1., 1., 1., 0., 0., 1., 0., 0., 1., 1., 0.,\n",
              "       0., 1., 1., 0., 1., 0., 0., 0., 1., 0., 1., 1., 1., 1., 1., 1., 0.,\n",
              "       1., 0., 0., 0., 0., 1., 1., 0., 0., 1., 1., 1., 0., 0., 0., 1., 0.,\n",
              "       0., 1., 0., 0., 1., 0., 1., 1., 0., 0., 1., 1., 1., 1., 1., 0., 0.,\n",
              "       1., 1., 0., 1., 0., 1., 1., 0., 1.])"
            ]
          },
          "metadata": {},
          "execution_count": 102
        }
      ]
    },
    {
      "cell_type": "markdown",
      "source": [
        "build model"
      ],
      "metadata": {
        "id": "OqwbNKSYPKP7"
      }
    },
    {
      "cell_type": "code",
      "source": [
        "model = keras.Sequential([\n",
        "    keras.layers.Flatten(input_shape=(30,)),\n",
        "    keras.layers.Dense(20, activation=tf.nn.relu),\n",
        "    keras.layers.Dense(10, activation=tf.nn.relu),\t  \n",
        "    keras.layers.Dense(1, activation=tf.nn.sigmoid),\n",
        "])"
      ],
      "metadata": {
        "id": "rXKShUCaPMjx"
      },
      "execution_count": 103,
      "outputs": []
    },
    {
      "cell_type": "markdown",
      "source": [
        "build,complie model"
      ],
      "metadata": {
        "id": "zTse6T7KPQNr"
      }
    },
    {
      "cell_type": "code",
      "source": [
        "model.build()\n",
        "model.summary()\n"
      ],
      "metadata": {
        "colab": {
          "base_uri": "https://localhost:8080/"
        },
        "id": "sArB6JEMPTpE",
        "outputId": "dee16a04-617d-482a-f014-768238a22417"
      },
      "execution_count": 104,
      "outputs": [
        {
          "output_type": "stream",
          "name": "stdout",
          "text": [
            "Model: \"sequential_3\"\n",
            "_________________________________________________________________\n",
            " Layer (type)                Output Shape              Param #   \n",
            "=================================================================\n",
            " flatten_3 (Flatten)         (None, 30)                0         \n",
            "                                                                 \n",
            " dense_8 (Dense)             (None, 20)                620       \n",
            "                                                                 \n",
            " dense_9 (Dense)             (None, 10)                210       \n",
            "                                                                 \n",
            " dense_10 (Dense)            (None, 1)                 11        \n",
            "                                                                 \n",
            "=================================================================\n",
            "Total params: 841\n",
            "Trainable params: 841\n",
            "Non-trainable params: 0\n",
            "_________________________________________________________________\n"
          ]
        }
      ]
    },
    {
      "cell_type": "code",
      "source": [
        "model.compile(optimizer='adam',\n",
        "              loss='binary_crossentropy',\n",
        "              metrics=['accuracy'])"
      ],
      "metadata": {
        "id": "2v3c8YuJPYtz"
      },
      "execution_count": 105,
      "outputs": []
    },
    {
      "cell_type": "markdown",
      "source": [
        "train"
      ],
      "metadata": {
        "id": "iEjsirr8PbOa"
      }
    },
    {
      "cell_type": "code",
      "source": [
        "hist = model.fit(X_train, y_train, epochs=100, batch_size=1, validation_data=(X_test, y_test))\n"
      ],
      "metadata": {
        "colab": {
          "base_uri": "https://localhost:8080/"
        },
        "id": "fr0qkdGsPax9",
        "outputId": "3bc717b9-a49a-4cab-8b7f-452f04650900"
      },
      "execution_count": 106,
      "outputs": [
        {
          "output_type": "stream",
          "name": "stdout",
          "text": [
            "Epoch 1/100\n",
            "435/435 [==============================] - 2s 3ms/step - loss: 0.5825 - accuracy: 0.7264 - val_loss: 0.5786 - val_accuracy: 0.6552\n",
            "Epoch 2/100\n",
            "435/435 [==============================] - 1s 2ms/step - loss: 0.5312 - accuracy: 0.7632 - val_loss: 0.5526 - val_accuracy: 0.6966\n",
            "Epoch 3/100\n",
            "435/435 [==============================] - 1s 2ms/step - loss: 0.5003 - accuracy: 0.7770 - val_loss: 0.5483 - val_accuracy: 0.7310\n",
            "Epoch 4/100\n",
            "435/435 [==============================] - 1s 2ms/step - loss: 0.4786 - accuracy: 0.7816 - val_loss: 0.4901 - val_accuracy: 0.7586\n",
            "Epoch 5/100\n",
            "435/435 [==============================] - 1s 2ms/step - loss: 0.4407 - accuracy: 0.8069 - val_loss: 0.5058 - val_accuracy: 0.7655\n",
            "Epoch 6/100\n",
            "435/435 [==============================] - 1s 2ms/step - loss: 0.4383 - accuracy: 0.8069 - val_loss: 0.4509 - val_accuracy: 0.8345\n",
            "Epoch 7/100\n",
            "435/435 [==============================] - 1s 2ms/step - loss: 0.4119 - accuracy: 0.8184 - val_loss: 0.4427 - val_accuracy: 0.7862\n",
            "Epoch 8/100\n",
            "435/435 [==============================] - 1s 2ms/step - loss: 0.4006 - accuracy: 0.8161 - val_loss: 0.4385 - val_accuracy: 0.8138\n",
            "Epoch 9/100\n",
            "435/435 [==============================] - 1s 2ms/step - loss: 0.3771 - accuracy: 0.8299 - val_loss: 0.4292 - val_accuracy: 0.7862\n",
            "Epoch 10/100\n",
            "435/435 [==============================] - 1s 2ms/step - loss: 0.3721 - accuracy: 0.8437 - val_loss: 0.4173 - val_accuracy: 0.8345\n",
            "Epoch 11/100\n",
            "435/435 [==============================] - 1s 2ms/step - loss: 0.3492 - accuracy: 0.8506 - val_loss: 0.4308 - val_accuracy: 0.8276\n",
            "Epoch 12/100\n",
            "435/435 [==============================] - 1s 2ms/step - loss: 0.3368 - accuracy: 0.8529 - val_loss: 0.4182 - val_accuracy: 0.8276\n",
            "Epoch 13/100\n",
            "435/435 [==============================] - 1s 2ms/step - loss: 0.3324 - accuracy: 0.8598 - val_loss: 0.4037 - val_accuracy: 0.8345\n",
            "Epoch 14/100\n",
            "435/435 [==============================] - 1s 2ms/step - loss: 0.3111 - accuracy: 0.8736 - val_loss: 0.3889 - val_accuracy: 0.8552\n",
            "Epoch 15/100\n",
            "435/435 [==============================] - 1s 2ms/step - loss: 0.3171 - accuracy: 0.8713 - val_loss: 0.4163 - val_accuracy: 0.8138\n",
            "Epoch 16/100\n",
            "435/435 [==============================] - 1s 2ms/step - loss: 0.3113 - accuracy: 0.8713 - val_loss: 0.3914 - val_accuracy: 0.8345\n",
            "Epoch 17/100\n",
            "435/435 [==============================] - 1s 2ms/step - loss: 0.2920 - accuracy: 0.8805 - val_loss: 0.3856 - val_accuracy: 0.8276\n",
            "Epoch 18/100\n",
            "435/435 [==============================] - 1s 2ms/step - loss: 0.2890 - accuracy: 0.8828 - val_loss: 0.4028 - val_accuracy: 0.8276\n",
            "Epoch 19/100\n",
            "435/435 [==============================] - 1s 2ms/step - loss: 0.2743 - accuracy: 0.8874 - val_loss: 0.3627 - val_accuracy: 0.8414\n",
            "Epoch 20/100\n",
            "435/435 [==============================] - 1s 2ms/step - loss: 0.2651 - accuracy: 0.9057 - val_loss: 0.3679 - val_accuracy: 0.8483\n",
            "Epoch 21/100\n",
            "435/435 [==============================] - 1s 2ms/step - loss: 0.2492 - accuracy: 0.8920 - val_loss: 0.3587 - val_accuracy: 0.8621\n",
            "Epoch 22/100\n",
            "435/435 [==============================] - 1s 2ms/step - loss: 0.2566 - accuracy: 0.8782 - val_loss: 0.3432 - val_accuracy: 0.8690\n",
            "Epoch 23/100\n",
            "435/435 [==============================] - 1s 2ms/step - loss: 0.2386 - accuracy: 0.8943 - val_loss: 0.3716 - val_accuracy: 0.8483\n",
            "Epoch 24/100\n",
            "435/435 [==============================] - 1s 2ms/step - loss: 0.2394 - accuracy: 0.9011 - val_loss: 0.3593 - val_accuracy: 0.8483\n",
            "Epoch 25/100\n",
            "435/435 [==============================] - 1s 2ms/step - loss: 0.2190 - accuracy: 0.9195 - val_loss: 0.3393 - val_accuracy: 0.8621\n",
            "Epoch 26/100\n",
            "435/435 [==============================] - 1s 2ms/step - loss: 0.2054 - accuracy: 0.9264 - val_loss: 0.3743 - val_accuracy: 0.8414\n",
            "Epoch 27/100\n",
            "435/435 [==============================] - 1s 2ms/step - loss: 0.2226 - accuracy: 0.9034 - val_loss: 0.3629 - val_accuracy: 0.8759\n",
            "Epoch 28/100\n",
            "435/435 [==============================] - 1s 2ms/step - loss: 0.2052 - accuracy: 0.9195 - val_loss: 0.4342 - val_accuracy: 0.8000\n",
            "Epoch 29/100\n",
            "435/435 [==============================] - 1s 2ms/step - loss: 0.2035 - accuracy: 0.9287 - val_loss: 0.4211 - val_accuracy: 0.8414\n",
            "Epoch 30/100\n",
            "435/435 [==============================] - 1s 2ms/step - loss: 0.1892 - accuracy: 0.9218 - val_loss: 0.4011 - val_accuracy: 0.8276\n",
            "Epoch 31/100\n",
            "435/435 [==============================] - 1s 2ms/step - loss: 0.1971 - accuracy: 0.9149 - val_loss: 0.4738 - val_accuracy: 0.7931\n",
            "Epoch 32/100\n",
            "435/435 [==============================] - 1s 2ms/step - loss: 0.1882 - accuracy: 0.9126 - val_loss: 0.3423 - val_accuracy: 0.8897\n",
            "Epoch 33/100\n",
            "435/435 [==============================] - 1s 2ms/step - loss: 0.1905 - accuracy: 0.9287 - val_loss: 0.3520 - val_accuracy: 0.8690\n",
            "Epoch 34/100\n",
            "435/435 [==============================] - 1s 2ms/step - loss: 0.1738 - accuracy: 0.9402 - val_loss: 0.3401 - val_accuracy: 0.8690\n",
            "Epoch 35/100\n",
            "435/435 [==============================] - 1s 2ms/step - loss: 0.1707 - accuracy: 0.9287 - val_loss: 0.3575 - val_accuracy: 0.8552\n",
            "Epoch 36/100\n",
            "435/435 [==============================] - 1s 2ms/step - loss: 0.1833 - accuracy: 0.9264 - val_loss: 0.3431 - val_accuracy: 0.8690\n",
            "Epoch 37/100\n",
            "435/435 [==============================] - 1s 2ms/step - loss: 0.1679 - accuracy: 0.9264 - val_loss: 0.3483 - val_accuracy: 0.8621\n",
            "Epoch 38/100\n",
            "435/435 [==============================] - 1s 2ms/step - loss: 0.1570 - accuracy: 0.9402 - val_loss: 0.3695 - val_accuracy: 0.8621\n",
            "Epoch 39/100\n",
            "435/435 [==============================] - 1s 2ms/step - loss: 0.1584 - accuracy: 0.9425 - val_loss: 0.4552 - val_accuracy: 0.8000\n",
            "Epoch 40/100\n",
            "435/435 [==============================] - 1s 2ms/step - loss: 0.1602 - accuracy: 0.9471 - val_loss: 0.3335 - val_accuracy: 0.8966\n",
            "Epoch 41/100\n",
            "435/435 [==============================] - 1s 2ms/step - loss: 0.1507 - accuracy: 0.9471 - val_loss: 0.3652 - val_accuracy: 0.8621\n",
            "Epoch 42/100\n",
            "435/435 [==============================] - 1s 2ms/step - loss: 0.1485 - accuracy: 0.9425 - val_loss: 0.3440 - val_accuracy: 0.9034\n",
            "Epoch 43/100\n",
            "435/435 [==============================] - 1s 2ms/step - loss: 0.1546 - accuracy: 0.9425 - val_loss: 0.3507 - val_accuracy: 0.8759\n",
            "Epoch 44/100\n",
            "435/435 [==============================] - 1s 2ms/step - loss: 0.1598 - accuracy: 0.9379 - val_loss: 0.3504 - val_accuracy: 0.9034\n",
            "Epoch 45/100\n",
            "435/435 [==============================] - 1s 2ms/step - loss: 0.1465 - accuracy: 0.9425 - val_loss: 0.3822 - val_accuracy: 0.8828\n",
            "Epoch 46/100\n",
            "435/435 [==============================] - 1s 2ms/step - loss: 0.1572 - accuracy: 0.9356 - val_loss: 0.3601 - val_accuracy: 0.8966\n",
            "Epoch 47/100\n",
            "435/435 [==============================] - 1s 2ms/step - loss: 0.1412 - accuracy: 0.9402 - val_loss: 0.3464 - val_accuracy: 0.8966\n",
            "Epoch 48/100\n",
            "435/435 [==============================] - 1s 2ms/step - loss: 0.1438 - accuracy: 0.9425 - val_loss: 0.3509 - val_accuracy: 0.8966\n",
            "Epoch 49/100\n",
            "435/435 [==============================] - 1s 2ms/step - loss: 0.1325 - accuracy: 0.9402 - val_loss: 0.3551 - val_accuracy: 0.9172\n",
            "Epoch 50/100\n",
            "435/435 [==============================] - 1s 2ms/step - loss: 0.1312 - accuracy: 0.9471 - val_loss: 0.4006 - val_accuracy: 0.8552\n",
            "Epoch 51/100\n",
            "435/435 [==============================] - 1s 2ms/step - loss: 0.1335 - accuracy: 0.9494 - val_loss: 0.3774 - val_accuracy: 0.8759\n",
            "Epoch 52/100\n",
            "435/435 [==============================] - 1s 2ms/step - loss: 0.1300 - accuracy: 0.9379 - val_loss: 0.3713 - val_accuracy: 0.8966\n",
            "Epoch 53/100\n",
            "435/435 [==============================] - 1s 2ms/step - loss: 0.1374 - accuracy: 0.9402 - val_loss: 0.4251 - val_accuracy: 0.8690\n",
            "Epoch 54/100\n",
            "435/435 [==============================] - 1s 2ms/step - loss: 0.1283 - accuracy: 0.9471 - val_loss: 0.4139 - val_accuracy: 0.8690\n",
            "Epoch 55/100\n",
            "435/435 [==============================] - 1s 2ms/step - loss: 0.1202 - accuracy: 0.9356 - val_loss: 0.3660 - val_accuracy: 0.8966\n",
            "Epoch 56/100\n",
            "435/435 [==============================] - 1s 2ms/step - loss: 0.1307 - accuracy: 0.9471 - val_loss: 0.4580 - val_accuracy: 0.8345\n",
            "Epoch 57/100\n",
            "435/435 [==============================] - 1s 2ms/step - loss: 0.1118 - accuracy: 0.9494 - val_loss: 0.4246 - val_accuracy: 0.8552\n",
            "Epoch 58/100\n",
            "435/435 [==============================] - 1s 2ms/step - loss: 0.1189 - accuracy: 0.9402 - val_loss: 0.5393 - val_accuracy: 0.8069\n",
            "Epoch 59/100\n",
            "435/435 [==============================] - 1s 2ms/step - loss: 0.1135 - accuracy: 0.9494 - val_loss: 0.3758 - val_accuracy: 0.9103\n",
            "Epoch 60/100\n",
            "435/435 [==============================] - 1s 2ms/step - loss: 0.1205 - accuracy: 0.9494 - val_loss: 0.4879 - val_accuracy: 0.8414\n",
            "Epoch 61/100\n",
            "435/435 [==============================] - 1s 2ms/step - loss: 0.1268 - accuracy: 0.9425 - val_loss: 0.4658 - val_accuracy: 0.8828\n",
            "Epoch 62/100\n",
            "435/435 [==============================] - 1s 2ms/step - loss: 0.1446 - accuracy: 0.9448 - val_loss: 0.3889 - val_accuracy: 0.8828\n",
            "Epoch 63/100\n",
            "435/435 [==============================] - 1s 2ms/step - loss: 0.1043 - accuracy: 0.9586 - val_loss: 0.4200 - val_accuracy: 0.8759\n",
            "Epoch 64/100\n",
            "435/435 [==============================] - 1s 2ms/step - loss: 0.1054 - accuracy: 0.9609 - val_loss: 0.4447 - val_accuracy: 0.8828\n",
            "Epoch 65/100\n",
            "435/435 [==============================] - 1s 2ms/step - loss: 0.1157 - accuracy: 0.9494 - val_loss: 0.4088 - val_accuracy: 0.8966\n",
            "Epoch 66/100\n",
            "435/435 [==============================] - 1s 2ms/step - loss: 0.0959 - accuracy: 0.9540 - val_loss: 0.4185 - val_accuracy: 0.8621\n",
            "Epoch 67/100\n",
            "435/435 [==============================] - 1s 2ms/step - loss: 0.1183 - accuracy: 0.9448 - val_loss: 0.3964 - val_accuracy: 0.9103\n",
            "Epoch 68/100\n",
            "435/435 [==============================] - 1s 2ms/step - loss: 0.0862 - accuracy: 0.9770 - val_loss: 0.4753 - val_accuracy: 0.8621\n",
            "Epoch 69/100\n",
            "435/435 [==============================] - 1s 2ms/step - loss: 0.1096 - accuracy: 0.9632 - val_loss: 0.3976 - val_accuracy: 0.9034\n",
            "Epoch 70/100\n",
            "435/435 [==============================] - 1s 2ms/step - loss: 0.0865 - accuracy: 0.9678 - val_loss: 0.4643 - val_accuracy: 0.8897\n",
            "Epoch 71/100\n",
            "435/435 [==============================] - 1s 2ms/step - loss: 0.0916 - accuracy: 0.9632 - val_loss: 0.4544 - val_accuracy: 0.8690\n",
            "Epoch 72/100\n",
            "435/435 [==============================] - 1s 2ms/step - loss: 0.0890 - accuracy: 0.9540 - val_loss: 0.4110 - val_accuracy: 0.9103\n",
            "Epoch 73/100\n",
            "435/435 [==============================] - 1s 2ms/step - loss: 0.1156 - accuracy: 0.9517 - val_loss: 0.4190 - val_accuracy: 0.9034\n",
            "Epoch 74/100\n",
            "435/435 [==============================] - 1s 2ms/step - loss: 0.0900 - accuracy: 0.9701 - val_loss: 0.4316 - val_accuracy: 0.8897\n",
            "Epoch 75/100\n",
            "435/435 [==============================] - 1s 2ms/step - loss: 0.0869 - accuracy: 0.9655 - val_loss: 0.4303 - val_accuracy: 0.8828\n",
            "Epoch 76/100\n",
            "435/435 [==============================] - 1s 2ms/step - loss: 0.0845 - accuracy: 0.9609 - val_loss: 0.4685 - val_accuracy: 0.8690\n",
            "Epoch 77/100\n",
            "435/435 [==============================] - 1s 2ms/step - loss: 0.0822 - accuracy: 0.9701 - val_loss: 0.4733 - val_accuracy: 0.8759\n",
            "Epoch 78/100\n",
            "435/435 [==============================] - 1s 2ms/step - loss: 0.0932 - accuracy: 0.9632 - val_loss: 0.4932 - val_accuracy: 0.8621\n",
            "Epoch 79/100\n",
            "435/435 [==============================] - 1s 2ms/step - loss: 0.0942 - accuracy: 0.9540 - val_loss: 0.4469 - val_accuracy: 0.9172\n",
            "Epoch 80/100\n",
            "435/435 [==============================] - 1s 2ms/step - loss: 0.0901 - accuracy: 0.9586 - val_loss: 0.4579 - val_accuracy: 0.8828\n",
            "Epoch 81/100\n",
            "435/435 [==============================] - 2s 4ms/step - loss: 0.0961 - accuracy: 0.9655 - val_loss: 0.5745 - val_accuracy: 0.8483\n",
            "Epoch 82/100\n",
            "435/435 [==============================] - 2s 4ms/step - loss: 0.0771 - accuracy: 0.9701 - val_loss: 0.4281 - val_accuracy: 0.9103\n",
            "Epoch 83/100\n",
            "435/435 [==============================] - 1s 2ms/step - loss: 0.1045 - accuracy: 0.9609 - val_loss: 0.4283 - val_accuracy: 0.9103\n",
            "Epoch 84/100\n",
            "435/435 [==============================] - 1s 2ms/step - loss: 0.0850 - accuracy: 0.9655 - val_loss: 0.4855 - val_accuracy: 0.8621\n",
            "Epoch 85/100\n",
            "435/435 [==============================] - 1s 2ms/step - loss: 0.0717 - accuracy: 0.9701 - val_loss: 0.4922 - val_accuracy: 0.8966\n",
            "Epoch 86/100\n",
            "435/435 [==============================] - 1s 2ms/step - loss: 0.0787 - accuracy: 0.9632 - val_loss: 0.4617 - val_accuracy: 0.9034\n",
            "Epoch 87/100\n",
            "435/435 [==============================] - 1s 2ms/step - loss: 0.0649 - accuracy: 0.9770 - val_loss: 0.5631 - val_accuracy: 0.8621\n",
            "Epoch 88/100\n",
            "435/435 [==============================] - 1s 2ms/step - loss: 0.0764 - accuracy: 0.9678 - val_loss: 0.4964 - val_accuracy: 0.8690\n",
            "Epoch 89/100\n",
            "435/435 [==============================] - 1s 2ms/step - loss: 0.0906 - accuracy: 0.9540 - val_loss: 0.6286 - val_accuracy: 0.8207\n",
            "Epoch 90/100\n",
            "435/435 [==============================] - 1s 2ms/step - loss: 0.0819 - accuracy: 0.9701 - val_loss: 0.4569 - val_accuracy: 0.9103\n",
            "Epoch 91/100\n",
            "435/435 [==============================] - 1s 2ms/step - loss: 0.0768 - accuracy: 0.9747 - val_loss: 0.5871 - val_accuracy: 0.8552\n",
            "Epoch 92/100\n",
            "435/435 [==============================] - 1s 2ms/step - loss: 0.0663 - accuracy: 0.9724 - val_loss: 0.5792 - val_accuracy: 0.8483\n",
            "Epoch 93/100\n",
            "435/435 [==============================] - 1s 2ms/step - loss: 0.0955 - accuracy: 0.9632 - val_loss: 0.5041 - val_accuracy: 0.8897\n",
            "Epoch 94/100\n",
            "435/435 [==============================] - 1s 2ms/step - loss: 0.0809 - accuracy: 0.9655 - val_loss: 0.6082 - val_accuracy: 0.8621\n",
            "Epoch 95/100\n",
            "435/435 [==============================] - 1s 2ms/step - loss: 0.0658 - accuracy: 0.9724 - val_loss: 0.5206 - val_accuracy: 0.8897\n",
            "Epoch 96/100\n",
            "435/435 [==============================] - 1s 2ms/step - loss: 0.0763 - accuracy: 0.9816 - val_loss: 0.5247 - val_accuracy: 0.8897\n",
            "Epoch 97/100\n",
            "435/435 [==============================] - 1s 2ms/step - loss: 0.0624 - accuracy: 0.9724 - val_loss: 0.6362 - val_accuracy: 0.8483\n",
            "Epoch 98/100\n",
            "435/435 [==============================] - 1s 2ms/step - loss: 0.0699 - accuracy: 0.9724 - val_loss: 0.5242 - val_accuracy: 0.8966\n",
            "Epoch 99/100\n",
            "435/435 [==============================] - 1s 2ms/step - loss: 0.0640 - accuracy: 0.9793 - val_loss: 0.5345 - val_accuracy: 0.8897\n",
            "Epoch 100/100\n",
            "435/435 [==============================] - 1s 2ms/step - loss: 0.0728 - accuracy: 0.9770 - val_loss: 0.5266 - val_accuracy: 0.8966\n"
          ]
        }
      ]
    },
    {
      "cell_type": "code",
      "source": [
        "print(hist.history.keys())"
      ],
      "metadata": {
        "colab": {
          "base_uri": "https://localhost:8080/"
        },
        "id": "TMv8yr41PjIC",
        "outputId": "28f80b6e-b49a-4888-c281-f4eba8144604"
      },
      "execution_count": 107,
      "outputs": [
        {
          "output_type": "stream",
          "name": "stdout",
          "text": [
            "dict_keys(['loss', 'accuracy', 'val_loss', 'val_accuracy'])\n"
          ]
        }
      ]
    },
    {
      "cell_type": "markdown",
      "source": [
        "vẽ đồ thị loss, accuracy"
      ],
      "metadata": {
        "id": "u0Kbgqj6PqqJ"
      }
    },
    {
      "cell_type": "code",
      "source": [
        "# summarize history for accuracy\n",
        "plt.plot(hist.history['accuracy'])\n",
        "plt.plot(hist.history['val_accuracy'])\n",
        "plt.title('model accuracy')\n",
        "plt.ylabel('accuracy')\n",
        "plt.xlabel('epoch')\n",
        "plt.legend(['train', 'test'], loc='upper left')"
      ],
      "metadata": {
        "colab": {
          "base_uri": "https://localhost:8080/",
          "height": 313
        },
        "id": "tc4roJTePukS",
        "outputId": "c7204da2-fd7c-4382-8a24-577350e6a788"
      },
      "execution_count": 108,
      "outputs": [
        {
          "output_type": "execute_result",
          "data": {
            "text/plain": [
              "<matplotlib.legend.Legend at 0x7f28b5e20fd0>"
            ]
          },
          "metadata": {},
          "execution_count": 108
        },
        {
          "output_type": "display_data",
          "data": {
            "text/plain": [
              "<Figure size 432x288 with 1 Axes>"
            ],
            "image/png": "[encoded data removed]"
          },
          "metadata": {
            "needs_background": "light"
          }
        }
      ]
    },
    {
      "cell_type": "code",
      "source": [
        "plt.plot(hist.history['loss'])\n",
        "plt.plot(hist.history['val_loss'])\n",
        "plt.title('model loss')\n",
        "plt.ylabel('loss')\n",
        "plt.xlabel('epoch')\n",
        "plt.legend(['train', 'test'], loc='upper left')"
      ],
      "metadata": {
        "colab": {
          "base_uri": "https://localhost:8080/",
          "height": 313
        },
        "id": "DywOSPFcP4a6",
        "outputId": "a469f5f7-07eb-4ad6-ce15-767b8634870a"
      },
      "execution_count": 109,
      "outputs": [
        {
          "output_type": "execute_result",
          "data": {
            "text/plain": [
              "<matplotlib.legend.Legend at 0x7f28b5da2b10>"
            ]
          },
          "metadata": {},
          "execution_count": 109
        },
        {
          "output_type": "display_data",
          "data": {
            "text/plain": [
              "<Figure size 432x288 with 1 Axes>"
            ],
            "image/png": "[encoded data removed]"
          },
          "metadata": {
            "needs_background": "light"
          }
        }
      ]
    },
    {
      "cell_type": "code",
      "source": [
        "test_loss, test_acc = model.evaluate(X_test, y_test)"
      ],
      "metadata": {
        "colab": {
          "base_uri": "https://localhost:8080/"
        },
        "id": "5S_rJxK7P67U",
        "outputId": "9c6c8215-71dd-433e-cba7-50c30d4169c1"
      },
      "execution_count": 110,
      "outputs": [
        {
          "output_type": "stream",
          "name": "stdout",
          "text": [
            "5/5 [==============================] - 0s 3ms/step - loss: 0.5266 - accuracy: 0.8966\n"
          ]
        }
      ]
    },
    {
      "cell_type": "markdown",
      "source": [
        "predict 1 kết quả trong z24_01"
      ],
      "metadata": {
        "id": "RVrvEBrSQAZF"
      }
    },
    {
      "cell_type": "code",
      "source": [
        "x_1 = [0.17644537264039523,-1.7914511851776163,0.20397587340085682,-1.7611032513544493,0.30335108027648106,-1.170955078904942,0.4815675607773132,-0.3769442707375599,0.5293446574273206,0.09682858795264085,0.31748191727933534,0.2424927083890882,0.019134891255532114,0.18809748811581697,-0.15442541906424853,0.14778794409045629,-0.18614266471773722,0.2097416099489675,-0.14005918679594986,0.3796556344901386,-0.08026914660934377,0.4941631383260321,0.02101999513076799,0.5235397716339107,0.07123522093060417,0.4304348620919603,0.09631571340665866,0.25886516846104374,0.05109819361319568,0.08864314660891977]\n",
        "y_pred = model.predict([x_1])\n",
        "y_pred"
      ],
      "metadata": {
        "colab": {
          "base_uri": "https://localhost:8080/"
        },
        "id": "2VgUGl1KQFcS",
        "outputId": "2dafb2f4-b9b5-408e-c3fc-a1631bb796ec"
      },
      "execution_count": 111,
      "outputs": [
        {
          "output_type": "execute_result",
          "data": {
            "text/plain": [
              "array([[0.03838187]], dtype=float32)"
            ]
          },
          "metadata": {},
          "execution_count": 111
        }
      ]
    },
    {
      "cell_type": "markdown",
      "source": [
        "nhận dạng"
      ],
      "metadata": {
        "id": "uNqIHO0oQKxb"
      }
    },
    {
      "cell_type": "code",
      "source": [
        "\"damag\" if y_pred[0][0]<0.5 else \"normal\"\n"
      ],
      "metadata": {
        "colab": {
          "base_uri": "https://localhost:8080/",
          "height": 36
        },
        "id": "MzF2ZT83QM4S",
        "outputId": "d2ad89aa-01b6-4185-cc78-217975d1c42e"
      },
      "execution_count": 112,
      "outputs": [
        {
          "output_type": "execute_result",
          "data": {
            "text/plain": [
              "'damag'"
            ],
            "application/vnd.google.colaboratory.intrinsic+json": {
              "type": "string"
            }
          },
          "metadata": {},
          "execution_count": 112
        }
      ]
    },
    {
      "cell_type": "markdown",
      "source": [
        "predict 1 kết quả trong z24_12"
      ],
      "metadata": {
        "id": "s60W9mFMQSOW"
      }
    },
    {
      "cell_type": "code",
      "source": [
        "sx_2 = [0.2835897113088593,-1.7148511361538081,0.5432986638231844,-2.046902661597781,0.6598758563566534,-1.5044789374167014,0.6446912300788621,-0.5676157122059278,0.5031927522818574,0.11481349304288965,0.06090936042060972,0.2684891757786505,-0.5281901898330873,0.14069628323834343,-0.9734340296217439,-0.01412047642339844,-1.0832985901855652,-0.009139680332590851,-0.8463876466312291,0.16337271835828593,-0.43287623541608294,0.34813996014236825,-0.13849620608795407,0.41923173407941583,0.001883041318729983,0.3294143922472575,0.017723714274308935,0.1724690137913958,0.0035751790393603817,0.049220954392151565]\n",
        "y_pred = model.predict([sx_2])\n",
        "y_pred"
      ],
      "metadata": {
        "colab": {
          "base_uri": "https://localhost:8080/"
        },
        "id": "Y7my3KK7QVZp",
        "outputId": "10e5563f-9c55-4e7b-d10a-ae16128c78ac"
      },
      "execution_count": 113,
      "outputs": [
        {
          "output_type": "execute_result",
          "data": {
            "text/plain": [
              "array([[0.999974]], dtype=float32)"
            ]
          },
          "metadata": {},
          "execution_count": 113
        }
      ]
    },
    {
      "cell_type": "code",
      "source": [
        "\"damag\" if y_pred[0][0]<0.5 else \"normal\"\n"
      ],
      "metadata": {
        "colab": {
          "base_uri": "https://localhost:8080/",
          "height": 36
        },
        "id": "50G0m4bBQbLj",
        "outputId": "8c7ce51a-675b-4366-cafb-2e4b492e6ea6"
      },
      "execution_count": 114,
      "outputs": [
        {
          "output_type": "execute_result",
          "data": {
            "text/plain": [
              "'normal'"
            ],
            "application/vnd.google.colaboratory.intrinsic+json": {
              "type": "string"
            }
          },
          "metadata": {},
          "execution_count": 114
        }
      ]
    }
  ]
}