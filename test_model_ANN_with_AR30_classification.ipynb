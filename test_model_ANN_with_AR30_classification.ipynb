{
  "cells": [
    {
      "cell_type": "markdown",
      "metadata": {
        "id": "view-in-github",
        "colab_type": "text"
      },
      "source": [
        "<a href=\"https://colab.research.google.com/github/mark3000-010701/The-study-proposes-machine-learning-methods-in-structural-damage-detection/blob/main/test_model_ANN_with_AR30_classification.ipynb\" target=\"_parent\"><img src=\"https://colab.research.google.com/assets/colab-badge.svg\" alt=\"Open In Colab\"/></a>"
      ]
    },
    {
      "cell_type": "code",
      "execution_count": 67,
      "metadata": {
        "id": "3rP_DhjXNjt0"
      },
      "outputs": [],
      "source": [
        "import numpy as np\n",
        "import pandas as pd\n",
        "import matplotlib.pyplot as plt\n",
        "import tensorflow as tf\n",
        "import keras\n",
        "from sklearn.model_selection import train_test_split"
      ]
    },
    {
      "cell_type": "markdown",
      "metadata": {
        "id": "Qq-eB9RqN7t5"
      },
      "source": [
        "đọc dữ liệu"
      ]
    },
    {
      "cell_type": "code",
      "execution_count": 68,
      "metadata": {
        "colab": {
          "base_uri": "https://localhost:8080/",
          "height": 279
        },
        "id": "gZIBpaKAN5wC",
        "outputId": "ec5cc7b3-4369-4a1d-ec61-842e4181ffc6"
      },
      "outputs": [
        {
          "output_type": "execute_result",
          "data": {
            "text/plain": [
              "          0         1         2         3         4         5         6  \\\n",
              "0  0.215391 -1.988158  0.326786 -2.225446  0.361410 -1.722394  0.428749   \n",
              "1  0.015273 -1.615242 -0.073862 -1.493956  0.010926 -0.906206  0.194786   \n",
              "2  0.018031 -1.717028 -0.114767 -1.811428 -0.109287 -1.250645 -0.090195   \n",
              "3  0.491214 -1.563688  0.920167 -1.650692  1.136241 -0.914208  0.922570   \n",
              "4  0.283590 -1.714851  0.543299 -2.046903  0.659876 -1.504479  0.644691   \n",
              "\n",
              "          7         8         9  ...        20        21        22        23  \\\n",
              "0 -0.790013  0.470387 -0.037052  ...  0.154444  0.594432  0.196298  0.512117   \n",
              "1 -0.077323  0.323855  0.288718  ... -0.168721  0.236515  0.060803  0.350101   \n",
              "2 -0.358772  0.022506  0.214969  ...  0.017743  0.357151  0.120442  0.401228   \n",
              "3  0.013923  0.509549  0.536455  ... -0.114276  0.400581 -0.072637  0.357473   \n",
              "4 -0.567616  0.503193  0.114813  ... -0.432876  0.348140 -0.138496  0.419232   \n",
              "\n",
              "         24        25        26        27        28        29  \n",
              "0  0.161310  0.363328  0.093523  0.179487  0.030643  0.054789  \n",
              "1  0.142934  0.337634  0.111244  0.197976  0.037547  0.071206  \n",
              "2  0.133294  0.356671  0.092019  0.217800  0.020101  0.086484  \n",
              "3 -0.065151  0.238467 -0.074727  0.110160 -0.040050  0.032473  \n",
              "4  0.001883  0.329414  0.017724  0.172469  0.003575  0.049221  \n",
              "\n",
              "[5 rows x 30 columns]"
            ],
            "text/html": [
              "\n",
              "  <div id=\"df-5479a131-f653-4a76-b5dc-63ca8d10a6e7\">\n",
              "    <div class=\"colab-df-container\">\n",
              "      <div>\n",
              "<style scoped>\n",
              "    .dataframe tbody tr th:only-of-type {\n",
              "        vertical-align: middle;\n",
              "    }\n",
              "\n",
              "    .dataframe tbody tr th {\n",
              "        vertical-align: top;\n",
              "    }\n",
              "\n",
              "    .dataframe thead th {\n",
              "        text-align: right;\n",
              "    }\n",
              "</style>\n",
              "<table border=\"1\" class=\"dataframe\">\n",
              "  <thead>\n",
              "    <tr style=\"text-align: right;\">\n",
              "      <th></th>\n",
              "      <th>0</th>\n",
              "      <th>1</th>\n",
              "      <th>2</th>\n",
              "      <th>3</th>\n",
              "      <th>4</th>\n",
              "      <th>5</th>\n",
              "      <th>6</th>\n",
              "      <th>7</th>\n",
              "      <th>8</th>\n",
              "      <th>9</th>\n",
              "      <th>...</th>\n",
              "      <th>20</th>\n",
              "      <th>21</th>\n",
              "      <th>22</th>\n",
              "      <th>23</th>\n",
              "      <th>24</th>\n",
              "      <th>25</th>\n",
              "      <th>26</th>\n",
              "      <th>27</th>\n",
              "      <th>28</th>\n",
              "      <th>29</th>\n",
              "    </tr>\n",
              "  </thead>\n",
              "  <tbody>\n",
              "    <tr>\n",
              "      <th>0</th>\n",
              "      <td>0.215391</td>\n",
              "      <td>-1.988158</td>\n",
              "      <td>0.326786</td>\n",
              "      <td>-2.225446</td>\n",
              "      <td>0.361410</td>\n",
              "      <td>-1.722394</td>\n",
              "      <td>0.428749</td>\n",
              "      <td>-0.790013</td>\n",
              "      <td>0.470387</td>\n",
              "      <td>-0.037052</td>\n",
              "      <td>...</td>\n",
              "      <td>0.154444</td>\n",
              "      <td>0.594432</td>\n",
              "      <td>0.196298</td>\n",
              "      <td>0.512117</td>\n",
              "      <td>0.161310</td>\n",
              "      <td>0.363328</td>\n",
              "      <td>0.093523</td>\n",
              "      <td>0.179487</td>\n",
              "      <td>0.030643</td>\n",
              "      <td>0.054789</td>\n",
              "    </tr>\n",
              "    <tr>\n",
              "      <th>1</th>\n",
              "      <td>0.015273</td>\n",
              "      <td>-1.615242</td>\n",
              "      <td>-0.073862</td>\n",
              "      <td>-1.493956</td>\n",
              "      <td>0.010926</td>\n",
              "      <td>-0.906206</td>\n",
              "      <td>0.194786</td>\n",
              "      <td>-0.077323</td>\n",
              "      <td>0.323855</td>\n",
              "      <td>0.288718</td>\n",
              "      <td>...</td>\n",
              "      <td>-0.168721</td>\n",
              "      <td>0.236515</td>\n",
              "      <td>0.060803</td>\n",
              "      <td>0.350101</td>\n",
              "      <td>0.142934</td>\n",
              "      <td>0.337634</td>\n",
              "      <td>0.111244</td>\n",
              "      <td>0.197976</td>\n",
              "      <td>0.037547</td>\n",
              "      <td>0.071206</td>\n",
              "    </tr>\n",
              "    <tr>\n",
              "      <th>2</th>\n",
              "      <td>0.018031</td>\n",
              "      <td>-1.717028</td>\n",
              "      <td>-0.114767</td>\n",
              "      <td>-1.811428</td>\n",
              "      <td>-0.109287</td>\n",
              "      <td>-1.250645</td>\n",
              "      <td>-0.090195</td>\n",
              "      <td>-0.358772</td>\n",
              "      <td>0.022506</td>\n",
              "      <td>0.214969</td>\n",
              "      <td>...</td>\n",
              "      <td>0.017743</td>\n",
              "      <td>0.357151</td>\n",
              "      <td>0.120442</td>\n",
              "      <td>0.401228</td>\n",
              "      <td>0.133294</td>\n",
              "      <td>0.356671</td>\n",
              "      <td>0.092019</td>\n",
              "      <td>0.217800</td>\n",
              "      <td>0.020101</td>\n",
              "      <td>0.086484</td>\n",
              "    </tr>\n",
              "    <tr>\n",
              "      <th>3</th>\n",
              "      <td>0.491214</td>\n",
              "      <td>-1.563688</td>\n",
              "      <td>0.920167</td>\n",
              "      <td>-1.650692</td>\n",
              "      <td>1.136241</td>\n",
              "      <td>-0.914208</td>\n",
              "      <td>0.922570</td>\n",
              "      <td>0.013923</td>\n",
              "      <td>0.509549</td>\n",
              "      <td>0.536455</td>\n",
              "      <td>...</td>\n",
              "      <td>-0.114276</td>\n",
              "      <td>0.400581</td>\n",
              "      <td>-0.072637</td>\n",
              "      <td>0.357473</td>\n",
              "      <td>-0.065151</td>\n",
              "      <td>0.238467</td>\n",
              "      <td>-0.074727</td>\n",
              "      <td>0.110160</td>\n",
              "      <td>-0.040050</td>\n",
              "      <td>0.032473</td>\n",
              "    </tr>\n",
              "    <tr>\n",
              "      <th>4</th>\n",
              "      <td>0.283590</td>\n",
              "      <td>-1.714851</td>\n",
              "      <td>0.543299</td>\n",
              "      <td>-2.046903</td>\n",
              "      <td>0.659876</td>\n",
              "      <td>-1.504479</td>\n",
              "      <td>0.644691</td>\n",
              "      <td>-0.567616</td>\n",
              "      <td>0.503193</td>\n",
              "      <td>0.114813</td>\n",
              "      <td>...</td>\n",
              "      <td>-0.432876</td>\n",
              "      <td>0.348140</td>\n",
              "      <td>-0.138496</td>\n",
              "      <td>0.419232</td>\n",
              "      <td>0.001883</td>\n",
              "      <td>0.329414</td>\n",
              "      <td>0.017724</td>\n",
              "      <td>0.172469</td>\n",
              "      <td>0.003575</td>\n",
              "      <td>0.049221</td>\n",
              "    </tr>\n",
              "  </tbody>\n",
              "</table>\n",
              "<p>5 rows × 30 columns</p>\n",
              "</div>\n",
              "      <button class=\"colab-df-convert\" onclick=\"convertToInteractive('df-5479a131-f653-4a76-b5dc-63ca8d10a6e7')\"\n",
              "              title=\"Convert this dataframe to an interactive table.\"\n",
              "              style=\"display:none;\">\n",
              "        \n",
              "  <svg xmlns=\"http://www.w3.org/2000/svg\" height=\"24px\"viewBox=\"0 0 24 24\"\n",
              "       width=\"24px\">\n",
              "    <path d=\"M0 0h24v24H0V0z\" fill=\"none\"/>\n",
              "    <path d=\"M18.56 5.44l.94 2.06.94-2.06 2.06-.94-2.06-.94-.94-2.06-.94 2.06-2.06.94zm-11 1L8.5 8.5l.94-2.06 2.06-.94-2.06-.94L8.5 2.5l-.94 2.06-2.06.94zm10 10l.94 2.06.94-2.06 2.06-.94-2.06-.94-.94-2.06-.94 2.06-2.06.94z\"/><path d=\"M17.41 7.96l-1.37-1.37c-.4-.4-.92-.59-1.43-.59-.52 0-1.04.2-1.43.59L10.3 9.45l-7.72 7.72c-.78.78-.78 2.05 0 2.83L4 21.41c.39.39.9.59 1.41.59.51 0 1.02-.2 1.41-.59l7.78-7.78 2.81-2.81c.8-.78.8-2.07 0-2.86zM5.41 20L4 18.59l7.72-7.72 1.47 1.35L5.41 20z\"/>\n",
              "  </svg>\n",
              "      </button>\n",
              "      \n",
              "  <style>\n",
              "    .colab-df-container {\n",
              "      display:flex;\n",
              "      flex-wrap:wrap;\n",
              "      gap: 12px;\n",
              "    }\n",
              "\n",
              "    .colab-df-convert {\n",
              "      background-color: #E8F0FE;\n",
              "      border: none;\n",
              "      border-radius: 50%;\n",
              "      cursor: pointer;\n",
              "      display: none;\n",
              "      fill: #1967D2;\n",
              "      height: 32px;\n",
              "      padding: 0 0 0 0;\n",
              "      width: 32px;\n",
              "    }\n",
              "\n",
              "    .colab-df-convert:hover {\n",
              "      background-color: #E2EBFA;\n",
              "      box-shadow: 0px 1px 2px rgba(60, 64, 67, 0.3), 0px 1px 3px 1px rgba(60, 64, 67, 0.15);\n",
              "      fill: #174EA6;\n",
              "    }\n",
              "\n",
              "    [theme=dark] .colab-df-convert {\n",
              "      background-color: #3B4455;\n",
              "      fill: #D2E3FC;\n",
              "    }\n",
              "\n",
              "    [theme=dark] .colab-df-convert:hover {\n",
              "      background-color: #434B5C;\n",
              "      box-shadow: 0px 1px 3px 1px rgba(0, 0, 0, 0.15);\n",
              "      filter: drop-shadow(0px 1px 2px rgba(0, 0, 0, 0.3));\n",
              "      fill: #FFFFFF;\n",
              "    }\n",
              "  </style>\n",
              "\n",
              "      <script>\n",
              "        const buttonEl =\n",
              "          document.querySelector('#df-5479a131-f653-4a76-b5dc-63ca8d10a6e7 button.colab-df-convert');\n",
              "        buttonEl.style.display =\n",
              "          google.colab.kernel.accessAllowed ? 'block' : 'none';\n",
              "\n",
              "        async function convertToInteractive(key) {\n",
              "          const element = document.querySelector('#df-5479a131-f653-4a76-b5dc-63ca8d10a6e7');\n",
              "          const dataTable =\n",
              "            await google.colab.kernel.invokeFunction('convertToInteractive',\n",
              "                                                     [key], {});\n",
              "          if (!dataTable) return;\n",
              "\n",
              "          const docLinkHtml = 'Like what you see? Visit the ' +\n",
              "            '<a target=\"_blank\" href=https://colab.research.google.com/notebooks/data_table.ipynb>data table notebook</a>'\n",
              "            + ' to learn more about interactive tables.';\n",
              "          element.innerHTML = '';\n",
              "          dataTable['output_type'] = 'display_data';\n",
              "          await google.colab.output.renderOutput(dataTable, element);\n",
              "          const docLink = document.createElement('div');\n",
              "          docLink.innerHTML = docLinkHtml;\n",
              "          element.appendChild(docLink);\n",
              "        }\n",
              "      </script>\n",
              "    </div>\n",
              "  </div>\n",
              "  "
            ]
          },
          "metadata": {},
          "execution_count": 68
        }
      ],
      "source": [
        "df_damag = pd.read_csv('/content/drive/MyDrive/Colab Notebooks/data_AR/Z24_12_avt_ar_lags30.csv')\n",
        "df_damag.head()"
      ]
    },
    {
      "cell_type": "code",
      "execution_count": 69,
      "metadata": {
        "colab": {
          "base_uri": "https://localhost:8080/"
        },
        "id": "MxquwGocOAU9",
        "outputId": "e2ec4f15-2415-4bcc-8844-5c7a9c8edb06"
      },
      "outputs": [
        {
          "output_type": "stream",
          "name": "stdout",
          "text": [
            "<class 'pandas.core.frame.DataFrame'>\n",
            "RangeIndex: 291 entries, 0 to 290\n",
            "Data columns (total 30 columns):\n",
            " #   Column  Non-Null Count  Dtype  \n",
            "---  ------  --------------  -----  \n",
            " 0   0       291 non-null    float64\n",
            " 1   1       291 non-null    float64\n",
            " 2   2       291 non-null    float64\n",
            " 3   3       291 non-null    float64\n",
            " 4   4       291 non-null    float64\n",
            " 5   5       291 non-null    float64\n",
            " 6   6       291 non-null    float64\n",
            " 7   7       291 non-null    float64\n",
            " 8   8       291 non-null    float64\n",
            " 9   9       291 non-null    float64\n",
            " 10  10      291 non-null    float64\n",
            " 11  11      291 non-null    float64\n",
            " 12  12      291 non-null    float64\n",
            " 13  13      291 non-null    float64\n",
            " 14  14      291 non-null    float64\n",
            " 15  15      291 non-null    float64\n",
            " 16  16      291 non-null    float64\n",
            " 17  17      291 non-null    float64\n",
            " 18  18      291 non-null    float64\n",
            " 19  19      291 non-null    float64\n",
            " 20  20      291 non-null    float64\n",
            " 21  21      291 non-null    float64\n",
            " 22  22      291 non-null    float64\n",
            " 23  23      291 non-null    float64\n",
            " 24  24      291 non-null    float64\n",
            " 25  25      291 non-null    float64\n",
            " 26  26      291 non-null    float64\n",
            " 27  27      291 non-null    float64\n",
            " 28  28      291 non-null    float64\n",
            " 29  29      291 non-null    float64\n",
            "dtypes: float64(30)\n",
            "memory usage: 68.3 KB\n"
          ]
        }
      ],
      "source": [
        "df_damag.info()"
      ]
    },
    {
      "cell_type": "code",
      "execution_count": 70,
      "metadata": {
        "colab": {
          "base_uri": "https://localhost:8080/",
          "height": 279
        },
        "id": "ZCPRoTCQOC0t",
        "outputId": "c8e2903d-83b4-4724-e543-257d6a47d200"
      },
      "outputs": [
        {
          "output_type": "execute_result",
          "data": {
            "text/plain": [
              "          0         1         2         3         4         5         6  \\\n",
              "0  0.188551 -1.831313  0.269703 -1.899566  0.367822 -1.337485  0.560015   \n",
              "1  0.001323 -1.513705 -0.025424 -1.286226  0.214456 -0.595287  0.541101   \n",
              "2  0.042113 -1.560507 -0.053504 -1.487476  0.059937 -0.825542  0.197459   \n",
              "3  0.288522 -1.524582  0.452929 -1.551784  0.527094 -0.808047  0.428855   \n",
              "4  0.374052 -1.567791  0.713601 -1.718501  0.873121 -1.098372  0.808788   \n",
              "\n",
              "          7         8         9  ...        20        21        22        23  \\\n",
              "0 -0.447530  0.601489  0.136189  ...  0.045936  0.465558  0.193725  0.505233   \n",
              "1  0.292676  0.626366  0.556689  ...  0.010720  0.587200  0.329819  0.662693   \n",
              "2  0.073489  0.307278  0.492737  ...  0.016416  0.507250  0.232045  0.633422   \n",
              "3  0.051967  0.283276  0.425607  ... -0.230640  0.531735 -0.038901  0.568340   \n",
              "4 -0.284880  0.514294  0.092092  ... -0.379367  0.577784 -0.198218  0.455401   \n",
              "\n",
              "         24        25        26        27        28        29  \n",
              "0  0.222883  0.420898  0.188927  0.257299  0.079685  0.093056  \n",
              "1  0.380200  0.506202  0.297332  0.241586  0.120309  0.059965  \n",
              "2  0.277323  0.553907  0.254098  0.328015  0.113745  0.119630  \n",
              "3  0.058347  0.424846  0.080205  0.212624  0.050079  0.057377  \n",
              "4 -0.100408  0.223588 -0.034277  0.043612 -0.002408 -0.025903  \n",
              "\n",
              "[5 rows x 30 columns]"
            ],
            "text/html": [
              "\n",
              "  <div id=\"df-0675951c-b87c-4080-8b76-7906061115c0\">\n",
              "    <div class=\"colab-df-container\">\n",
              "      <div>\n",
              "<style scoped>\n",
              "    .dataframe tbody tr th:only-of-type {\n",
              "        vertical-align: middle;\n",
              "    }\n",
              "\n",
              "    .dataframe tbody tr th {\n",
              "        vertical-align: top;\n",
              "    }\n",
              "\n",
              "    .dataframe thead th {\n",
              "        text-align: right;\n",
              "    }\n",
              "</style>\n",
              "<table border=\"1\" class=\"dataframe\">\n",
              "  <thead>\n",
              "    <tr style=\"text-align: right;\">\n",
              "      <th></th>\n",
              "      <th>0</th>\n",
              "      <th>1</th>\n",
              "      <th>2</th>\n",
              "      <th>3</th>\n",
              "      <th>4</th>\n",
              "      <th>5</th>\n",
              "      <th>6</th>\n",
              "      <th>7</th>\n",
              "      <th>8</th>\n",
              "      <th>9</th>\n",
              "      <th>...</th>\n",
              "      <th>20</th>\n",
              "      <th>21</th>\n",
              "      <th>22</th>\n",
              "      <th>23</th>\n",
              "      <th>24</th>\n",
              "      <th>25</th>\n",
              "      <th>26</th>\n",
              "      <th>27</th>\n",
              "      <th>28</th>\n",
              "      <th>29</th>\n",
              "    </tr>\n",
              "  </thead>\n",
              "  <tbody>\n",
              "    <tr>\n",
              "      <th>0</th>\n",
              "      <td>0.188551</td>\n",
              "      <td>-1.831313</td>\n",
              "      <td>0.269703</td>\n",
              "      <td>-1.899566</td>\n",
              "      <td>0.367822</td>\n",
              "      <td>-1.337485</td>\n",
              "      <td>0.560015</td>\n",
              "      <td>-0.447530</td>\n",
              "      <td>0.601489</td>\n",
              "      <td>0.136189</td>\n",
              "      <td>...</td>\n",
              "      <td>0.045936</td>\n",
              "      <td>0.465558</td>\n",
              "      <td>0.193725</td>\n",
              "      <td>0.505233</td>\n",
              "      <td>0.222883</td>\n",
              "      <td>0.420898</td>\n",
              "      <td>0.188927</td>\n",
              "      <td>0.257299</td>\n",
              "      <td>0.079685</td>\n",
              "      <td>0.093056</td>\n",
              "    </tr>\n",
              "    <tr>\n",
              "      <th>1</th>\n",
              "      <td>0.001323</td>\n",
              "      <td>-1.513705</td>\n",
              "      <td>-0.025424</td>\n",
              "      <td>-1.286226</td>\n",
              "      <td>0.214456</td>\n",
              "      <td>-0.595287</td>\n",
              "      <td>0.541101</td>\n",
              "      <td>0.292676</td>\n",
              "      <td>0.626366</td>\n",
              "      <td>0.556689</td>\n",
              "      <td>...</td>\n",
              "      <td>0.010720</td>\n",
              "      <td>0.587200</td>\n",
              "      <td>0.329819</td>\n",
              "      <td>0.662693</td>\n",
              "      <td>0.380200</td>\n",
              "      <td>0.506202</td>\n",
              "      <td>0.297332</td>\n",
              "      <td>0.241586</td>\n",
              "      <td>0.120309</td>\n",
              "      <td>0.059965</td>\n",
              "    </tr>\n",
              "    <tr>\n",
              "      <th>2</th>\n",
              "      <td>0.042113</td>\n",
              "      <td>-1.560507</td>\n",
              "      <td>-0.053504</td>\n",
              "      <td>-1.487476</td>\n",
              "      <td>0.059937</td>\n",
              "      <td>-0.825542</td>\n",
              "      <td>0.197459</td>\n",
              "      <td>0.073489</td>\n",
              "      <td>0.307278</td>\n",
              "      <td>0.492737</td>\n",
              "      <td>...</td>\n",
              "      <td>0.016416</td>\n",
              "      <td>0.507250</td>\n",
              "      <td>0.232045</td>\n",
              "      <td>0.633422</td>\n",
              "      <td>0.277323</td>\n",
              "      <td>0.553907</td>\n",
              "      <td>0.254098</td>\n",
              "      <td>0.328015</td>\n",
              "      <td>0.113745</td>\n",
              "      <td>0.119630</td>\n",
              "    </tr>\n",
              "    <tr>\n",
              "      <th>3</th>\n",
              "      <td>0.288522</td>\n",
              "      <td>-1.524582</td>\n",
              "      <td>0.452929</td>\n",
              "      <td>-1.551784</td>\n",
              "      <td>0.527094</td>\n",
              "      <td>-0.808047</td>\n",
              "      <td>0.428855</td>\n",
              "      <td>0.051967</td>\n",
              "      <td>0.283276</td>\n",
              "      <td>0.425607</td>\n",
              "      <td>...</td>\n",
              "      <td>-0.230640</td>\n",
              "      <td>0.531735</td>\n",
              "      <td>-0.038901</td>\n",
              "      <td>0.568340</td>\n",
              "      <td>0.058347</td>\n",
              "      <td>0.424846</td>\n",
              "      <td>0.080205</td>\n",
              "      <td>0.212624</td>\n",
              "      <td>0.050079</td>\n",
              "      <td>0.057377</td>\n",
              "    </tr>\n",
              "    <tr>\n",
              "      <th>4</th>\n",
              "      <td>0.374052</td>\n",
              "      <td>-1.567791</td>\n",
              "      <td>0.713601</td>\n",
              "      <td>-1.718501</td>\n",
              "      <td>0.873121</td>\n",
              "      <td>-1.098372</td>\n",
              "      <td>0.808788</td>\n",
              "      <td>-0.284880</td>\n",
              "      <td>0.514294</td>\n",
              "      <td>0.092092</td>\n",
              "      <td>...</td>\n",
              "      <td>-0.379367</td>\n",
              "      <td>0.577784</td>\n",
              "      <td>-0.198218</td>\n",
              "      <td>0.455401</td>\n",
              "      <td>-0.100408</td>\n",
              "      <td>0.223588</td>\n",
              "      <td>-0.034277</td>\n",
              "      <td>0.043612</td>\n",
              "      <td>-0.002408</td>\n",
              "      <td>-0.025903</td>\n",
              "    </tr>\n",
              "  </tbody>\n",
              "</table>\n",
              "<p>5 rows × 30 columns</p>\n",
              "</div>\n",
              "      <button class=\"colab-df-convert\" onclick=\"convertToInteractive('df-0675951c-b87c-4080-8b76-7906061115c0')\"\n",
              "              title=\"Convert this dataframe to an interactive table.\"\n",
              "              style=\"display:none;\">\n",
              "        \n",
              "  <svg xmlns=\"http://www.w3.org/2000/svg\" height=\"24px\"viewBox=\"0 0 24 24\"\n",
              "       width=\"24px\">\n",
              "    <path d=\"M0 0h24v24H0V0z\" fill=\"none\"/>\n",
              "    <path d=\"M18.56 5.44l.94 2.06.94-2.06 2.06-.94-2.06-.94-.94-2.06-.94 2.06-2.06.94zm-11 1L8.5 8.5l.94-2.06 2.06-.94-2.06-.94L8.5 2.5l-.94 2.06-2.06.94zm10 10l.94 2.06.94-2.06 2.06-.94-2.06-.94-.94-2.06-.94 2.06-2.06.94z\"/><path d=\"M17.41 7.96l-1.37-1.37c-.4-.4-.92-.59-1.43-.59-.52 0-1.04.2-1.43.59L10.3 9.45l-7.72 7.72c-.78.78-.78 2.05 0 2.83L4 21.41c.39.39.9.59 1.41.59.51 0 1.02-.2 1.41-.59l7.78-7.78 2.81-2.81c.8-.78.8-2.07 0-2.86zM5.41 20L4 18.59l7.72-7.72 1.47 1.35L5.41 20z\"/>\n",
              "  </svg>\n",
              "      </button>\n",
              "      \n",
              "  <style>\n",
              "    .colab-df-container {\n",
              "      display:flex;\n",
              "      flex-wrap:wrap;\n",
              "      gap: 12px;\n",
              "    }\n",
              "\n",
              "    .colab-df-convert {\n",
              "      background-color: #E8F0FE;\n",
              "      border: none;\n",
              "      border-radius: 50%;\n",
              "      cursor: pointer;\n",
              "      display: none;\n",
              "      fill: #1967D2;\n",
              "      height: 32px;\n",
              "      padding: 0 0 0 0;\n",
              "      width: 32px;\n",
              "    }\n",
              "\n",
              "    .colab-df-convert:hover {\n",
              "      background-color: #E2EBFA;\n",
              "      box-shadow: 0px 1px 2px rgba(60, 64, 67, 0.3), 0px 1px 3px 1px rgba(60, 64, 67, 0.15);\n",
              "      fill: #174EA6;\n",
              "    }\n",
              "\n",
              "    [theme=dark] .colab-df-convert {\n",
              "      background-color: #3B4455;\n",
              "      fill: #D2E3FC;\n",
              "    }\n",
              "\n",
              "    [theme=dark] .colab-df-convert:hover {\n",
              "      background-color: #434B5C;\n",
              "      box-shadow: 0px 1px 3px 1px rgba(0, 0, 0, 0.15);\n",
              "      filter: drop-shadow(0px 1px 2px rgba(0, 0, 0, 0.3));\n",
              "      fill: #FFFFFF;\n",
              "    }\n",
              "  </style>\n",
              "\n",
              "      <script>\n",
              "        const buttonEl =\n",
              "          document.querySelector('#df-0675951c-b87c-4080-8b76-7906061115c0 button.colab-df-convert');\n",
              "        buttonEl.style.display =\n",
              "          google.colab.kernel.accessAllowed ? 'block' : 'none';\n",
              "\n",
              "        async function convertToInteractive(key) {\n",
              "          const element = document.querySelector('#df-0675951c-b87c-4080-8b76-7906061115c0');\n",
              "          const dataTable =\n",
              "            await google.colab.kernel.invokeFunction('convertToInteractive',\n",
              "                                                     [key], {});\n",
              "          if (!dataTable) return;\n",
              "\n",
              "          const docLinkHtml = 'Like what you see? Visit the ' +\n",
              "            '<a target=\"_blank\" href=https://colab.research.google.com/notebooks/data_table.ipynb>data table notebook</a>'\n",
              "            + ' to learn more about interactive tables.';\n",
              "          element.innerHTML = '';\n",
              "          dataTable['output_type'] = 'display_data';\n",
              "          await google.colab.output.renderOutput(dataTable, element);\n",
              "          const docLink = document.createElement('div');\n",
              "          docLink.innerHTML = docLinkHtml;\n",
              "          element.appendChild(docLink);\n",
              "        }\n",
              "      </script>\n",
              "    </div>\n",
              "  </div>\n",
              "  "
            ]
          },
          "metadata": {},
          "execution_count": 70
        }
      ],
      "source": [
        "df_normal = pd.read_csv('/content/drive/MyDrive/Colab Notebooks/data_AR/Z24_01_avt_ar_lags30.csv')\n",
        "df_normal.head()"
      ]
    },
    {
      "cell_type": "code",
      "execution_count": 71,
      "metadata": {
        "colab": {
          "base_uri": "https://localhost:8080/"
        },
        "id": "Khux85oAOEUq",
        "outputId": "6d2075d6-ddb2-455e-ad51-f151927787f1"
      },
      "outputs": [
        {
          "output_type": "stream",
          "name": "stdout",
          "text": [
            "<class 'pandas.core.frame.DataFrame'>\n",
            "RangeIndex: 289 entries, 0 to 288\n",
            "Data columns (total 30 columns):\n",
            " #   Column  Non-Null Count  Dtype  \n",
            "---  ------  --------------  -----  \n",
            " 0   0       289 non-null    float64\n",
            " 1   1       289 non-null    float64\n",
            " 2   2       289 non-null    float64\n",
            " 3   3       289 non-null    float64\n",
            " 4   4       289 non-null    float64\n",
            " 5   5       289 non-null    float64\n",
            " 6   6       289 non-null    float64\n",
            " 7   7       289 non-null    float64\n",
            " 8   8       289 non-null    float64\n",
            " 9   9       289 non-null    float64\n",
            " 10  10      289 non-null    float64\n",
            " 11  11      289 non-null    float64\n",
            " 12  12      289 non-null    float64\n",
            " 13  13      289 non-null    float64\n",
            " 14  14      289 non-null    float64\n",
            " 15  15      289 non-null    float64\n",
            " 16  16      289 non-null    float64\n",
            " 17  17      289 non-null    float64\n",
            " 18  18      289 non-null    float64\n",
            " 19  19      289 non-null    float64\n",
            " 20  20      289 non-null    float64\n",
            " 21  21      289 non-null    float64\n",
            " 22  22      289 non-null    float64\n",
            " 23  23      289 non-null    float64\n",
            " 24  24      289 non-null    float64\n",
            " 25  25      289 non-null    float64\n",
            " 26  26      289 non-null    float64\n",
            " 27  27      289 non-null    float64\n",
            " 28  28      289 non-null    float64\n",
            " 29  29      289 non-null    float64\n",
            "dtypes: float64(30)\n",
            "memory usage: 67.9 KB\n"
          ]
        }
      ],
      "source": [
        "df_normal.info()"
      ]
    },
    {
      "cell_type": "code",
      "execution_count": 72,
      "metadata": {
        "colab": {
          "base_uri": "https://localhost:8080/"
        },
        "id": "JoyuwxecOHZC",
        "outputId": "e72a2c79-6872-4739-bdd2-df9c5ab309d4"
      },
      "outputs": [
        {
          "output_type": "execute_result",
          "data": {
            "text/plain": [
              "(289, 30)"
            ]
          },
          "metadata": {},
          "execution_count": 72
        }
      ],
      "source": [
        "df_normal.shape"
      ]
    },
    {
      "cell_type": "markdown",
      "metadata": {
        "id": "zJVFhhPmOJ7C"
      },
      "source": [
        "Chuẩn bị dữ liệu đào tạo"
      ]
    },
    {
      "cell_type": "code",
      "execution_count": 73,
      "metadata": {
        "colab": {
          "base_uri": "https://localhost:8080/"
        },
        "id": "qmjyyyMGONnl",
        "outputId": "213b7eaf-2d3d-4356-afa1-3d7d7a4a6670"
      },
      "outputs": [
        {
          "output_type": "execute_result",
          "data": {
            "text/plain": [
              "numpy.ndarray"
            ]
          },
          "metadata": {},
          "execution_count": 73
        }
      ],
      "source": [
        "type(df_normal.values)"
      ]
    },
    {
      "cell_type": "code",
      "execution_count": 74,
      "metadata": {
        "id": "1eS7tktxOzg0"
      },
      "outputs": [],
      "source": [
        "all_data = np.concatenate([df_normal.values, df_damag.values])\n"
      ]
    },
    {
      "cell_type": "code",
      "execution_count": 75,
      "metadata": {
        "colab": {
          "base_uri": "https://localhost:8080/"
        },
        "id": "8fRhKL3sO1Lz",
        "outputId": "547e89b9-3545-4572-f17a-02b1d045243d"
      },
      "outputs": [
        {
          "output_type": "execute_result",
          "data": {
            "text/plain": [
              "(580, 30)"
            ]
          },
          "metadata": {},
          "execution_count": 75
        }
      ],
      "source": [
        "all_data.shape"
      ]
    },
    {
      "cell_type": "code",
      "execution_count": 76,
      "metadata": {
        "colab": {
          "base_uri": "https://localhost:8080/"
        },
        "id": "p8yBENs6O5V5",
        "outputId": "d0e8f75f-c952-43a5-e7fd-c1359be58552"
      },
      "outputs": [
        {
          "output_type": "execute_result",
          "data": {
            "text/plain": [
              "(580,)"
            ]
          },
          "metadata": {},
          "execution_count": 76
        }
      ],
      "source": [
        "Y_normal = np.ones(df_normal.shape[0])\n",
        "Y_damag =  np.zeros(df_damag.shape[0])\n",
        "Y_all = np.concatenate([Y_normal, Y_damag])\n",
        "Y_all.shape"
      ]
    },
    {
      "cell_type": "code",
      "execution_count": 77,
      "metadata": {
        "colab": {
          "base_uri": "https://localhost:8080/"
        },
        "id": "-85FToLIO747",
        "outputId": "095e86ac-19fe-431e-aeff-eed78487b53b"
      },
      "outputs": [
        {
          "output_type": "execute_result",
          "data": {
            "text/plain": [
              "array([1., 1., 1., 1., 1., 1., 1., 1., 1., 1., 1., 1., 1., 1., 1., 1., 1.,\n",
              "       1., 1., 1., 1., 1., 1., 1., 1., 1., 1., 1., 1., 1., 1., 1., 1., 1.,\n",
              "       1., 1., 1., 1., 1., 1., 1., 1., 1., 1., 1., 1., 1., 1., 1., 1., 1.,\n",
              "       1., 1., 1., 1., 1., 1., 1., 1., 1., 1., 1., 1., 1., 1., 1., 1., 1.,\n",
              "       1., 1., 1., 1., 1., 1., 1., 1., 1., 1., 1., 1., 1., 1., 1., 1., 1.,\n",
              "       1., 1., 1., 1., 1., 1., 1., 1., 1., 1., 1., 1., 1., 1., 1., 1., 1.,\n",
              "       1., 1., 1., 1., 1., 1., 1., 1., 1., 1., 1., 1., 1., 1., 1., 1., 1.,\n",
              "       1., 1., 1., 1., 1., 1., 1., 1., 1., 1., 1., 1., 1., 1., 1., 1., 1.,\n",
              "       1., 1., 1., 1., 1., 1., 1., 1., 1., 1., 1., 1., 1., 1., 1., 1., 1.,\n",
              "       1., 1., 1., 1., 1., 1., 1., 1., 1., 1., 1., 1., 1., 1., 1., 1., 1.,\n",
              "       1., 1., 1., 1., 1., 1., 1., 1., 1., 1., 1., 1., 1., 1., 1., 1., 1.,\n",
              "       1., 1., 1., 1., 1., 1., 1., 1., 1., 1., 1., 1., 1., 1., 1., 1., 1.,\n",
              "       1., 1., 1., 1., 1., 1., 1., 1., 1., 1., 1., 1., 1., 1., 1., 1., 1.,\n",
              "       1., 1., 1., 1., 1., 1., 1., 1., 1., 1., 1., 1., 1., 1., 1., 1., 1.,\n",
              "       1., 1., 1., 1., 1., 1., 1., 1., 1., 1., 1., 1., 1., 1., 1., 1., 1.,\n",
              "       1., 1., 1., 1., 1., 1., 1., 1., 1., 1., 1., 1., 1., 1., 1., 1., 1.,\n",
              "       1., 1., 1., 1., 1., 1., 1., 1., 1., 1., 1., 1., 1., 1., 1., 1., 1.,\n",
              "       0., 0., 0., 0., 0., 0., 0., 0., 0., 0., 0., 0., 0., 0., 0., 0., 0.,\n",
              "       0., 0., 0., 0., 0., 0., 0., 0., 0., 0., 0., 0., 0., 0., 0., 0., 0.,\n",
              "       0., 0., 0., 0., 0., 0., 0., 0., 0., 0., 0., 0., 0., 0., 0., 0., 0.,\n",
              "       0., 0., 0., 0., 0., 0., 0., 0., 0., 0., 0., 0., 0., 0., 0., 0., 0.,\n",
              "       0., 0., 0., 0., 0., 0., 0., 0., 0., 0., 0., 0., 0., 0., 0., 0., 0.,\n",
              "       0., 0., 0., 0., 0., 0., 0., 0., 0., 0., 0., 0., 0., 0., 0., 0., 0.,\n",
              "       0., 0., 0., 0., 0., 0., 0., 0., 0., 0., 0., 0., 0., 0., 0., 0., 0.,\n",
              "       0., 0., 0., 0., 0., 0., 0., 0., 0., 0., 0., 0., 0., 0., 0., 0., 0.,\n",
              "       0., 0., 0., 0., 0., 0., 0., 0., 0., 0., 0., 0., 0., 0., 0., 0., 0.,\n",
              "       0., 0., 0., 0., 0., 0., 0., 0., 0., 0., 0., 0., 0., 0., 0., 0., 0.,\n",
              "       0., 0., 0., 0., 0., 0., 0., 0., 0., 0., 0., 0., 0., 0., 0., 0., 0.,\n",
              "       0., 0., 0., 0., 0., 0., 0., 0., 0., 0., 0., 0., 0., 0., 0., 0., 0.,\n",
              "       0., 0., 0., 0., 0., 0., 0., 0., 0., 0., 0., 0., 0., 0., 0., 0., 0.,\n",
              "       0., 0., 0., 0., 0., 0., 0., 0., 0., 0., 0., 0., 0., 0., 0., 0., 0.,\n",
              "       0., 0., 0., 0., 0., 0., 0., 0., 0., 0., 0., 0., 0., 0., 0., 0., 0.,\n",
              "       0., 0., 0., 0., 0., 0., 0., 0., 0., 0., 0., 0., 0., 0., 0., 0., 0.,\n",
              "       0., 0., 0., 0., 0., 0., 0., 0., 0., 0., 0., 0., 0., 0., 0., 0., 0.,\n",
              "       0., 0.])"
            ]
          },
          "metadata": {},
          "execution_count": 77
        }
      ],
      "source": [
        "Y_all"
      ]
    },
    {
      "cell_type": "markdown",
      "metadata": {
        "id": "nosZAxMsO_O9"
      },
      "source": [
        "chia dữ liệu thành các tập train , test"
      ]
    },
    {
      "cell_type": "code",
      "execution_count": 78,
      "metadata": {
        "id": "jjtWnu4uPEWa"
      },
      "outputs": [],
      "source": [
        "X_train, X_test, y_train, y_test = train_test_split(all_data, Y_all, test_size=0.2, random_state=0)\n"
      ]
    },
    {
      "cell_type": "code",
      "execution_count": 79,
      "metadata": {
        "colab": {
          "base_uri": "https://localhost:8080/"
        },
        "id": "MUlLYpG6O9xz",
        "outputId": "66a33b84-cf1a-4385-a5d4-c82648205289"
      },
      "outputs": [
        {
          "output_type": "execute_result",
          "data": {
            "text/plain": [
              "array([0., 0., 1., 0., 0., 0., 1., 0., 1., 0., 1., 1., 0., 1., 1., 0., 0.,\n",
              "       0., 1., 1., 1., 0., 0., 0., 0., 1., 1., 0., 0., 0., 1., 1., 0., 0.,\n",
              "       0., 0., 1., 0., 1., 0., 1., 0., 0., 0., 1., 0., 1., 0., 0., 0., 1.,\n",
              "       0., 1., 0., 0., 0., 1., 1., 1., 0., 0., 0., 1., 1., 1., 1., 0., 0.,\n",
              "       0., 1., 1., 1., 0., 0., 1., 1., 1., 0., 0., 1., 0., 0., 1., 1., 0.,\n",
              "       0., 1., 1., 0., 1., 0., 0., 0., 1., 0., 1., 1., 1., 1., 1., 1., 0.,\n",
              "       1., 0., 0., 0., 0., 1., 1., 0., 0., 1., 1., 1., 0., 0.])"
            ]
          },
          "metadata": {},
          "execution_count": 79
        }
      ],
      "source": [
        "y_test"
      ]
    },
    {
      "cell_type": "markdown",
      "metadata": {
        "id": "OqwbNKSYPKP7"
      },
      "source": [
        "build model"
      ]
    },
    {
      "cell_type": "code",
      "execution_count": 80,
      "metadata": {
        "id": "rXKShUCaPMjx"
      },
      "outputs": [],
      "source": [
        "model = keras.Sequential([\n",
        "    keras.layers.Flatten(input_shape=(30,)),\n",
        "   \n",
        "    keras.layers.Dense(10, activation=tf.nn.relu),\t  \n",
        "    keras.layers.Dense(1, activation=tf.nn.sigmoid),\n",
        "])"
      ]
    },
    {
      "cell_type": "markdown",
      "metadata": {
        "id": "zTse6T7KPQNr"
      },
      "source": [
        "build,complie model"
      ]
    },
    {
      "cell_type": "code",
      "execution_count": 81,
      "metadata": {
        "colab": {
          "base_uri": "https://localhost:8080/"
        },
        "id": "sArB6JEMPTpE",
        "outputId": "81109037-c691-4855-f574-ba2c640d98fd"
      },
      "outputs": [
        {
          "output_type": "stream",
          "name": "stdout",
          "text": [
            "Model: \"sequential_2\"\n",
            "_________________________________________________________________\n",
            " Layer (type)                Output Shape              Param #   \n",
            "=================================================================\n",
            " flatten_2 (Flatten)         (None, 30)                0         \n",
            "                                                                 \n",
            " dense_4 (Dense)             (None, 10)                310       \n",
            "                                                                 \n",
            " dense_5 (Dense)             (None, 1)                 11        \n",
            "                                                                 \n",
            "=================================================================\n",
            "Total params: 321\n",
            "Trainable params: 321\n",
            "Non-trainable params: 0\n",
            "_________________________________________________________________\n"
          ]
        }
      ],
      "source": [
        "model.build()\n",
        "model.summary()\n"
      ]
    },
    {
      "cell_type": "code",
      "execution_count": 82,
      "metadata": {
        "id": "2v3c8YuJPYtz"
      },
      "outputs": [],
      "source": [
        "model.compile(optimizer='adam',\n",
        "              loss='binary_crossentropy',\n",
        "              metrics=['accuracy'])"
      ]
    },
    {
      "cell_type": "markdown",
      "metadata": {
        "id": "iEjsirr8PbOa"
      },
      "source": [
        "train"
      ]
    },
    {
      "cell_type": "code",
      "execution_count": null,
      "metadata": {
        "id": "fr0qkdGsPax9"
      },
      "outputs": [],
      "source": [
        "hist = model.fit(X_train, y_train, epochs=100, batch_size=1, validation_data=(X_test, y_test))\n"
      ]
    },
    {
      "cell_type": "code",
      "execution_count": 84,
      "metadata": {
        "colab": {
          "base_uri": "https://localhost:8080/"
        },
        "id": "TMv8yr41PjIC",
        "outputId": "731536bc-8b08-48eb-8916-4c67214d7e19"
      },
      "outputs": [
        {
          "output_type": "stream",
          "name": "stdout",
          "text": [
            "dict_keys(['loss', 'accuracy', 'val_loss', 'val_accuracy'])\n"
          ]
        }
      ],
      "source": [
        "print(hist.history.keys())"
      ]
    },
    {
      "cell_type": "markdown",
      "metadata": {
        "id": "u0Kbgqj6PqqJ"
      },
      "source": [
        "vẽ đồ thị loss, accuracy"
      ]
    },
    {
      "cell_type": "code",
      "execution_count": 85,
      "metadata": {
        "colab": {
          "base_uri": "https://localhost:8080/",
          "height": 313
        },
        "id": "tc4roJTePukS",
        "outputId": "2b1a171d-e7c7-4739-f92b-8daf5fd6fa83"
      },
      "outputs": [
        {
          "output_type": "execute_result",
          "data": {
            "text/plain": [
              "<matplotlib.legend.Legend at 0x7f6b766e1fd0>"
            ]
          },
          "metadata": {},
          "execution_count": 85
        },
        {
          "output_type": "display_data",
          "data": {
            "text/plain": [
              "<Figure size 432x288 with 1 Axes>"
            ],
            "image/png": "[encoded data removed]"
          },
          "metadata": {
            "needs_background": "light"
          }
        }
      ],
      "source": [
        "# summarize history for accuracy\n",
        "plt.plot(hist.history['accuracy'])\n",
        "plt.plot(hist.history['val_accuracy'])\n",
        "plt.title('model accuracy')\n",
        "plt.ylabel('accuracy')\n",
        "plt.xlabel('epoch')\n",
        "plt.legend(['train', 'test'], loc='upper left')"
      ]
    },
    {
      "cell_type": "code",
      "execution_count": 86,
      "metadata": {
        "colab": {
          "base_uri": "https://localhost:8080/",
          "height": 313
        },
        "id": "DywOSPFcP4a6",
        "outputId": "0e8b3372-5651-4a78-ebb2-e7db7f21b513"
      },
      "outputs": [
        {
          "output_type": "execute_result",
          "data": {
            "text/plain": [
              "<matplotlib.legend.Legend at 0x7f6b7893c0d0>"
            ]
          },
          "metadata": {},
          "execution_count": 86
        },
        {
          "output_type": "display_data",
          "data": {
            "text/plain": [
              "<Figure size 432x288 with 1 Axes>"
            ],
            "image/png": "[encoded data removed]"
          },
          "metadata": {
            "needs_background": "light"
          }
        }
      ],
      "source": [
        "plt.plot(hist.history['loss'])\n",
        "plt.plot(hist.history['val_loss'])\n",
        "plt.title('model loss')\n",
        "plt.ylabel('loss')\n",
        "plt.xlabel('epoch')\n",
        "plt.legend(['train', 'test'], loc='upper left')"
      ]
    },
    {
      "cell_type": "code",
      "execution_count": 87,
      "metadata": {
        "colab": {
          "base_uri": "https://localhost:8080/"
        },
        "id": "5S_rJxK7P67U",
        "outputId": "9f6dedaa-0a3f-47e3-a559-175107f6dc92"
      },
      "outputs": [
        {
          "output_type": "stream",
          "name": "stdout",
          "text": [
            "4/4 [==============================] - 0s 3ms/step - loss: 0.2989 - accuracy: 0.8621\n"
          ]
        }
      ],
      "source": [
        "test_loss, test_acc = model.evaluate(X_test, y_test)"
      ]
    },
    {
      "cell_type": "markdown",
      "metadata": {
        "id": "RVrvEBrSQAZF"
      },
      "source": [
        "predict 1 kết quả trong z24_01"
      ]
    },
    {
      "cell_type": "code",
      "execution_count": 88,
      "metadata": {
        "colab": {
          "base_uri": "https://localhost:8080/"
        },
        "id": "2VgUGl1KQFcS",
        "outputId": "75dcf5bd-47a1-4226-f672-ecf9eef556df"
      },
      "outputs": [
        {
          "output_type": "execute_result",
          "data": {
            "text/plain": [
              "array([[0.5001981]], dtype=float32)"
            ]
          },
          "metadata": {},
          "execution_count": 88
        }
      ],
      "source": [
        "x_1 = [0.17644537264039523,-1.7914511851776163,0.20397587340085682,-1.7611032513544493,0.30335108027648106,-1.170955078904942,0.4815675607773132,-0.3769442707375599,0.5293446574273206,0.09682858795264085,0.31748191727933534,0.2424927083890882,0.019134891255532114,0.18809748811581697,-0.15442541906424853,0.14778794409045629,-0.18614266471773722,0.2097416099489675,-0.14005918679594986,0.3796556344901386,-0.08026914660934377,0.4941631383260321,0.02101999513076799,0.5235397716339107,0.07123522093060417,0.4304348620919603,0.09631571340665866,0.25886516846104374,0.05109819361319568,0.08864314660891977]\n",
        "y_pred = model.predict([x_1])\n",
        "y_pred"
      ]
    },
    {
      "cell_type": "markdown",
      "metadata": {
        "id": "uNqIHO0oQKxb"
      },
      "source": [
        "nhận dạng"
      ]
    },
    {
      "cell_type": "code",
      "execution_count": 89,
      "metadata": {
        "colab": {
          "base_uri": "https://localhost:8080/",
          "height": 36
        },
        "id": "MzF2ZT83QM4S",
        "outputId": "49bf07b7-8d16-4f99-c3a0-60f77c4f345e"
      },
      "outputs": [
        {
          "output_type": "execute_result",
          "data": {
            "text/plain": [
              "'normal'"
            ],
            "application/vnd.google.colaboratory.intrinsic+json": {
              "type": "string"
            }
          },
          "metadata": {},
          "execution_count": 89
        }
      ],
      "source": [
        "\"damag\" if y_pred[0][0]<0.5 else \"normal\"\n"
      ]
    },
    {
      "cell_type": "markdown",
      "metadata": {
        "id": "s60W9mFMQSOW"
      },
      "source": [
        "predict 1 kết quả trong z24_12"
      ]
    },
    {
      "cell_type": "code",
      "execution_count": 90,
      "metadata": {
        "colab": {
          "base_uri": "https://localhost:8080/"
        },
        "id": "Y7my3KK7QVZp",
        "outputId": "59bfd8e0-6174-4f61-e572-1a1cfd44cb17"
      },
      "outputs": [
        {
          "output_type": "execute_result",
          "data": {
            "text/plain": [
              "array([[0.00164086]], dtype=float32)"
            ]
          },
          "metadata": {},
          "execution_count": 90
        }
      ],
      "source": [
        "sx_2 = [0.2835897113088593,-1.7148511361538081,0.5432986638231844,-2.046902661597781,0.6598758563566534,-1.5044789374167014,0.6446912300788621,-0.5676157122059278,0.5031927522818574,0.11481349304288965,0.06090936042060972,0.2684891757786505,-0.5281901898330873,0.14069628323834343,-0.9734340296217439,-0.01412047642339844,-1.0832985901855652,-0.009139680332590851,-0.8463876466312291,0.16337271835828593,-0.43287623541608294,0.34813996014236825,-0.13849620608795407,0.41923173407941583,0.001883041318729983,0.3294143922472575,0.017723714274308935,0.1724690137913958,0.0035751790393603817,0.049220954392151565]\n",
        "y_pred = model.predict([sx_2])\n",
        "y_pred"
      ]
    },
    {
      "cell_type": "code",
      "execution_count": 91,
      "metadata": {
        "colab": {
          "base_uri": "https://localhost:8080/",
          "height": 36
        },
        "id": "50G0m4bBQbLj",
        "outputId": "7b2d39d7-7ce3-4404-cdbe-fbfbd91764e8"
      },
      "outputs": [
        {
          "output_type": "execute_result",
          "data": {
            "text/plain": [
              "'damag'"
            ],
            "application/vnd.google.colaboratory.intrinsic+json": {
              "type": "string"
            }
          },
          "metadata": {},
          "execution_count": 91
        }
      ],
      "source": [
        "\"damag\" if y_pred[0][0]<0.5 else \"normal\"\n"
      ]
    },
    {
      "cell_type": "code",
      "source": [
        "from sklearn.metrics import f1_score, accuracy_score, precision_score, recall_score, confusion_matrix\n"
      ],
      "metadata": {
        "id": "m4rpe6WX41NU"
      },
      "execution_count": 92,
      "outputs": []
    },
    {
      "cell_type": "code",
      "source": [
        "import seaborn as sns"
      ],
      "metadata": {
        "id": "jP9qbOwF5Cvr"
      },
      "execution_count": 93,
      "outputs": []
    },
    {
      "cell_type": "code",
      "source": [
        "X_test.shape"
      ],
      "metadata": {
        "colab": {
          "base_uri": "https://localhost:8080/"
        },
        "id": "270fHiN7AUXb",
        "outputId": "d19ae9f5-88fb-4ef1-e62f-65dc8b04e3b6"
      },
      "execution_count": 107,
      "outputs": [
        {
          "output_type": "execute_result",
          "data": {
            "text/plain": [
              "(116, 30)"
            ]
          },
          "metadata": {},
          "execution_count": 107
        }
      ]
    },
    {
      "cell_type": "code",
      "source": [
        "def print_scores(model, labels, pred):\n",
        "    # Confusion matrix\n",
        "    accuracy = round(accuracy_score(labels, pred), 4)\n",
        "    precision = round(precision_score(labels, pred), 4)    \n",
        "    recall = round(recall_score(labels, pred), 4)\n",
        "    f1 = round(f1_score(labels, pred), 4)\n",
        "    \n",
        "    cm = confusion_matrix(labels, pred)\n",
        "    data = pd.DataFrame(cm)\n",
        "    \n",
        "    labels = [f\"TP: {all_data[0][0]} \",f\"FN: {all_data[1][1]} \",f\"FP: {all_data[1][0]} \",f\"TN: {all_data[0][1]} \"]\n",
        "    labels = np.asarray(labels).reshape(2,2)\n",
        "    \n",
        "    f, ax = plt.subplots(figsize=(6,5))\n",
        "    sns.heatmap(cm, annot=labels, fmt='', cmap='Blues', ax=ax)    \n",
        "    print(f\"{model}:: Accuracy: {accuracy}, Precision: {precision}, Recall: {recall}, f1_score: {f1}\")"
      ],
      "metadata": {
        "id": "Q0DMQZWV3FQc"
      },
      "execution_count": 108,
      "outputs": []
    },
    {
      "cell_type": "code",
      "source": [
        "y_pre_ann = model.predict(X_test)\n",
        "y_pre_ann_bool = y_pre_ann > 0.5\n",
        "print_scores('ANN',y_test,y_pre_ann_bool)"
      ],
      "metadata": {
        "colab": {
          "base_uri": "https://localhost:8080/",
          "height": 338
        },
        "id": "GlLFPyUg4-Uc",
        "outputId": "c0cc9ba9-683c-4449-a314-02985053cda5"
      },
      "execution_count": 113,
      "outputs": [
        {
          "output_type": "stream",
          "name": "stdout",
          "text": [
            "ANN:: Accuracy: 0.8621, Precision: 0.8491, Recall: 0.8491, f1_score: 0.8491\n"
          ]
        },
        {
          "output_type": "display_data",
          "data": {
            "text/plain": [
              "<Figure size 432x360 with 2 Axes>"
            ],
            "image/png": "[encoded data removed]"
          },
          "metadata": {
            "needs_background": "light"
          }
        }
      ]
    },
    {
      "cell_type": "code",
      "source": [
        "y_pre_ann_bool.shape"
      ],
      "metadata": {
        "colab": {
          "base_uri": "https://localhost:8080/"
        },
        "id": "cpMCiKirBqnU",
        "outputId": "35a28401-23f3-4610-9a0e-99a8197b6434"
      },
      "execution_count": 114,
      "outputs": [
        {
          "output_type": "execute_result",
          "data": {
            "text/plain": [
              "(116, 1)"
            ]
          },
          "metadata": {},
          "execution_count": 114
        }
      ]
    },
    {
      "cell_type": "code",
      "source": [
        "y_pre_ann_bool"
      ],
      "metadata": {
        "id": "obOdjFGcEGi2"
      },
      "execution_count": null,
      "outputs": []
    }
  ],
  "metadata": {
    "colab": {
      "name": "test_model_ANN_with_AR30_classification.ipynb",
      "provenance": [],
      "collapsed_sections": [],
      "mount_file_id": "1WKaP4DHzAO9FPLojyf_ot67otlVcjSID",
      "authorship_tag": "ABX9TyPPfzMnTUGAe3akUyKGRsZu",
      "include_colab_link": true
    },
    "kernelspec": {
      "display_name": "Python 3",
      "name": "python3"
    },
    "language_info": {
      "name": "python"
    }
  },
  "nbformat": 4,
  "nbformat_minor": 0
}